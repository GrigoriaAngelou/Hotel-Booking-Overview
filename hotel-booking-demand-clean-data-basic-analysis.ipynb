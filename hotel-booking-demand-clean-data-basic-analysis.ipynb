{
 "cells": [
  {
   "cell_type": "code",
   "execution_count": 1,
   "id": "fd3e2798",
   "metadata": {
    "_cell_guid": "b1076dfc-b9ad-4769-8c92-a6c4dae69d19",
    "_uuid": "8f2839f25d086af736a60e9eeb907d3b93b6e0e5",
    "execution": {
     "iopub.execute_input": "2024-05-28T12:16:36.053681Z",
     "iopub.status.busy": "2024-05-28T12:16:36.052965Z",
     "iopub.status.idle": "2024-05-28T12:16:36.743225Z",
     "shell.execute_reply": "2024-05-28T12:16:36.742198Z"
    },
    "papermill": {
     "duration": 0.708621,
     "end_time": "2024-05-28T12:16:36.745413",
     "exception": false,
     "start_time": "2024-05-28T12:16:36.036792",
     "status": "completed"
    },
    "tags": []
   },
   "outputs": [
    {
     "name": "stdout",
     "output_type": "stream",
     "text": [
      "/kaggle/input/hotel-booking-demand/hotel_bookings.csv\n"
     ]
    }
   ],
   "source": [
    "# This Python 3 environment comes with many helpful analytics libraries installed\n",
    "# It is defined by the kaggle/python Docker image: https://github.com/kaggle/docker-python\n",
    "# For example, here's several helpful packages to load\n",
    "\n",
    "import numpy as np # linear algebra\n",
    "import pandas as pd # data processing, CSV file I/O (e.g. pd.read_csv)\n",
    "\n",
    "# Input data files are available in the read-only \"../input/\" directory\n",
    "# For example, running this (by clicking run or pressing Shift+Enter) will list all files under the input directory\n",
    "\n",
    "import os\n",
    "for dirname, _, filenames in os.walk('/kaggle/input'):\n",
    "    for filename in filenames:\n",
    "        print(os.path.join(dirname, filename))\n",
    "\n",
    "# You can write up to 20GB to the current directory (/kaggle/working/) that gets preserved as output when you create a version using \"Save & Run All\" \n",
    "# You can also write temporary files to /kaggle/temp/, but they won't be saved outside of the current session"
   ]
  },
  {
   "cell_type": "markdown",
   "id": "35ff16fa",
   "metadata": {
    "papermill": {
     "duration": 0.014027,
     "end_time": "2024-05-28T12:16:36.774182",
     "exception": false,
     "start_time": "2024-05-28T12:16:36.760155",
     "status": "completed"
    },
    "tags": []
   },
   "source": [
    "# DATA UNDERSTANDING"
   ]
  },
  {
   "cell_type": "markdown",
   "id": "c963e578",
   "metadata": {
    "papermill": {
     "duration": 0.014101,
     "end_time": "2024-05-28T12:16:36.803330",
     "exception": false,
     "start_time": "2024-05-28T12:16:36.789229",
     "status": "completed"
    },
    "tags": []
   },
   "source": [
    "The dataset has information about: <br>\n",
    "**adr :** average daily rate <br>\n",
    "**adults :** number of adults <br>\n",
    "**agent :** ID of the travel agency that made the booking <br>\n",
    "**arrival_date_day_of_month :** Day of the month of the arrival date <br>\n",
    "**arrival_date_month :** Month of arrival date with 12 categories: “January” to “December” <br>\n",
    "**arrival_date_week_number :** Week number of the arrival date <br>\n",
    "**arrival_date_year :** Year of arrival date <br>\n",
    "**assigned_room_type :** Code for the type of room assigned to the booking. Sometimes the assigned room type differs from the reserved room type due to hotel operation reasons (e.g. overbooking) or by customer request. Code is presented instead of designation for anonymity reasons. <br>\n",
    "**babies :** Number of babies <br>\n",
    "**booking_changes :** Number of changes/amendments made to the booking from the moment the booking was entered on the PMS until the moment of check-in or cancellation. <br>\n",
    "**children :** Number of children. <br>\n",
    "**company :** ID of the company/entity that made the booking or responsible for paying the booking. ID is presented instead of designation for anonymity reasons. <br>\n",
    "**country :** Country of origin. Categories are represented in the ISO 3155–3:2013 format <br>\n",
    "**customer_type :** Type of booking, assuming one of four categories : <br>\n",
    "* Contract - when the booking has an allotment or other type of contract associated to it; <br>\n",
    "* Group – when the booking is associated to a group; <br>\n",
    "* Transient – when the booking is not part of a group or contract, and is not associated to other transient booking; <br>\n",
    "* Transient-party – when the booking is transient, but is associated to at least other transient booking <br>\n",
    "\n",
    "**days_in_waiting_list :** Number of days the booking was in the waiting list before it was confirmed to the customer <br>\n",
    "**deposit_type :** Indication on if the customer made a deposit to guarantee the booking. This variable can assume three categories:\n",
    "* No Deposit – no deposit was made.\n",
    "* Non Refund – a deposit was made in the value of the total stay cost.\n",
    "* Refundable – a deposit was made with a value under the total cost of stay.\n",
    "<br>\n",
    "\n",
    "**distribution_channel :** Booking distribution channel. The term “TA” means “Travel Agents” and “TO” means “Tour Operators”. <br>\n",
    "**is_canceled :** Value indicating if the booking was canceled (1) or not (0). <br>\n",
    "**is_repeated_quests :** Value indicating if the booking name was from a repeated guest (1) or not (0). <br>\n",
    "**lead_time :** Number of days that elapsed between the entering date of the booking into the PMS and the arrival date. <br>\n",
    "**market_segment :** Market segment designation. In categories, the term “TA” means “Travel Agents” and “TO” means “Tour Operators”. <br>\n",
    "\n",
    "**meal :** Type of meal booked. Categories are presented in standard hospitality meal packages:\n",
    "* Undefined/SC – no meal package\n",
    "* BB – Bed & Breakfast\n",
    "* HB – Half board (breakfast and one other meal – usually dinner)\n",
    "* FB – Full board (breakfast, lunch and dinner) <br>\n",
    "\n",
    "**previous_bookings_not_canceled :** Number of previous bookings not cancelled by the customer prior to the current booking. <br>\n",
    "**previous_cancellations :** Number of previous bookings that were cancelled by the customer prior to the current booking. <br>\n",
    "**required_car_parking_spaces :** Number of car parking spaces required by the customer. <br>\n",
    "**reservation_status :** Reservation last status, assuming one of three categories: \n",
    "* Canceled – booking was canceled by the customer\n",
    "* Check-Out – customer has checked in but already departed\n",
    "* No-Show – customer did not check-in and did inform the hotel of the reason why\n",
    "<br>\n",
    "\n",
    "**reservation_status_date :** Date at which the last status was set. This variable can be used in conjunction with the ReservationStatus to understand when was the booking canceled or when did the customer checked-out of the hotel. <br>\n",
    "**reserved_room_type :** Code of room type reserved. Code is presented instead of designation for anonymity reasons. <br>\n",
    "**stays_in_weekend_nights :** Number of weekend nights (Saturday or Sunday) the guest stayed or booked to stay at the hotel. <br>\n",
    "**stays_in_week_nights :** \tNumber of week nights (Monday to Friday) the guest stayed or booked to stay at the hotel. <br>\n",
    "**total_of_special_requests :** Number of special requests made by the customer (e.g. twin bed or high floor).\n"
   ]
  },
  {
   "cell_type": "code",
   "execution_count": 2,
   "id": "758698b8",
   "metadata": {
    "execution": {
     "iopub.execute_input": "2024-05-28T12:16:36.833061Z",
     "iopub.status.busy": "2024-05-28T12:16:36.832636Z",
     "iopub.status.idle": "2024-05-28T12:16:37.414358Z",
     "shell.execute_reply": "2024-05-28T12:16:37.413418Z"
    },
    "papermill": {
     "duration": 0.598893,
     "end_time": "2024-05-28T12:16:37.416356",
     "exception": false,
     "start_time": "2024-05-28T12:16:36.817463",
     "status": "completed"
    },
    "tags": []
   },
   "outputs": [
    {
     "data": {
      "text/html": [
       "<div>\n",
       "<style scoped>\n",
       "    .dataframe tbody tr th:only-of-type {\n",
       "        vertical-align: middle;\n",
       "    }\n",
       "\n",
       "    .dataframe tbody tr th {\n",
       "        vertical-align: top;\n",
       "    }\n",
       "\n",
       "    .dataframe thead th {\n",
       "        text-align: right;\n",
       "    }\n",
       "</style>\n",
       "<table border=\"1\" class=\"dataframe\">\n",
       "  <thead>\n",
       "    <tr style=\"text-align: right;\">\n",
       "      <th></th>\n",
       "      <th>hotel</th>\n",
       "      <th>is_canceled</th>\n",
       "      <th>lead_time</th>\n",
       "      <th>arrival_date_year</th>\n",
       "      <th>arrival_date_month</th>\n",
       "      <th>arrival_date_week_number</th>\n",
       "      <th>arrival_date_day_of_month</th>\n",
       "      <th>stays_in_weekend_nights</th>\n",
       "      <th>stays_in_week_nights</th>\n",
       "      <th>adults</th>\n",
       "      <th>...</th>\n",
       "      <th>deposit_type</th>\n",
       "      <th>agent</th>\n",
       "      <th>company</th>\n",
       "      <th>days_in_waiting_list</th>\n",
       "      <th>customer_type</th>\n",
       "      <th>adr</th>\n",
       "      <th>required_car_parking_spaces</th>\n",
       "      <th>total_of_special_requests</th>\n",
       "      <th>reservation_status</th>\n",
       "      <th>reservation_status_date</th>\n",
       "    </tr>\n",
       "  </thead>\n",
       "  <tbody>\n",
       "    <tr>\n",
       "      <th>0</th>\n",
       "      <td>Resort Hotel</td>\n",
       "      <td>0</td>\n",
       "      <td>342</td>\n",
       "      <td>2015</td>\n",
       "      <td>July</td>\n",
       "      <td>27</td>\n",
       "      <td>1</td>\n",
       "      <td>0</td>\n",
       "      <td>0</td>\n",
       "      <td>2</td>\n",
       "      <td>...</td>\n",
       "      <td>No Deposit</td>\n",
       "      <td>NaN</td>\n",
       "      <td>NaN</td>\n",
       "      <td>0</td>\n",
       "      <td>Transient</td>\n",
       "      <td>0.0</td>\n",
       "      <td>0</td>\n",
       "      <td>0</td>\n",
       "      <td>Check-Out</td>\n",
       "      <td>2015-07-01</td>\n",
       "    </tr>\n",
       "    <tr>\n",
       "      <th>1</th>\n",
       "      <td>Resort Hotel</td>\n",
       "      <td>0</td>\n",
       "      <td>737</td>\n",
       "      <td>2015</td>\n",
       "      <td>July</td>\n",
       "      <td>27</td>\n",
       "      <td>1</td>\n",
       "      <td>0</td>\n",
       "      <td>0</td>\n",
       "      <td>2</td>\n",
       "      <td>...</td>\n",
       "      <td>No Deposit</td>\n",
       "      <td>NaN</td>\n",
       "      <td>NaN</td>\n",
       "      <td>0</td>\n",
       "      <td>Transient</td>\n",
       "      <td>0.0</td>\n",
       "      <td>0</td>\n",
       "      <td>0</td>\n",
       "      <td>Check-Out</td>\n",
       "      <td>2015-07-01</td>\n",
       "    </tr>\n",
       "    <tr>\n",
       "      <th>2</th>\n",
       "      <td>Resort Hotel</td>\n",
       "      <td>0</td>\n",
       "      <td>7</td>\n",
       "      <td>2015</td>\n",
       "      <td>July</td>\n",
       "      <td>27</td>\n",
       "      <td>1</td>\n",
       "      <td>0</td>\n",
       "      <td>1</td>\n",
       "      <td>1</td>\n",
       "      <td>...</td>\n",
       "      <td>No Deposit</td>\n",
       "      <td>NaN</td>\n",
       "      <td>NaN</td>\n",
       "      <td>0</td>\n",
       "      <td>Transient</td>\n",
       "      <td>75.0</td>\n",
       "      <td>0</td>\n",
       "      <td>0</td>\n",
       "      <td>Check-Out</td>\n",
       "      <td>2015-07-02</td>\n",
       "    </tr>\n",
       "    <tr>\n",
       "      <th>3</th>\n",
       "      <td>Resort Hotel</td>\n",
       "      <td>0</td>\n",
       "      <td>13</td>\n",
       "      <td>2015</td>\n",
       "      <td>July</td>\n",
       "      <td>27</td>\n",
       "      <td>1</td>\n",
       "      <td>0</td>\n",
       "      <td>1</td>\n",
       "      <td>1</td>\n",
       "      <td>...</td>\n",
       "      <td>No Deposit</td>\n",
       "      <td>304.0</td>\n",
       "      <td>NaN</td>\n",
       "      <td>0</td>\n",
       "      <td>Transient</td>\n",
       "      <td>75.0</td>\n",
       "      <td>0</td>\n",
       "      <td>0</td>\n",
       "      <td>Check-Out</td>\n",
       "      <td>2015-07-02</td>\n",
       "    </tr>\n",
       "    <tr>\n",
       "      <th>4</th>\n",
       "      <td>Resort Hotel</td>\n",
       "      <td>0</td>\n",
       "      <td>14</td>\n",
       "      <td>2015</td>\n",
       "      <td>July</td>\n",
       "      <td>27</td>\n",
       "      <td>1</td>\n",
       "      <td>0</td>\n",
       "      <td>2</td>\n",
       "      <td>2</td>\n",
       "      <td>...</td>\n",
       "      <td>No Deposit</td>\n",
       "      <td>240.0</td>\n",
       "      <td>NaN</td>\n",
       "      <td>0</td>\n",
       "      <td>Transient</td>\n",
       "      <td>98.0</td>\n",
       "      <td>0</td>\n",
       "      <td>1</td>\n",
       "      <td>Check-Out</td>\n",
       "      <td>2015-07-03</td>\n",
       "    </tr>\n",
       "  </tbody>\n",
       "</table>\n",
       "<p>5 rows × 32 columns</p>\n",
       "</div>"
      ],
      "text/plain": [
       "          hotel  is_canceled  lead_time  arrival_date_year arrival_date_month  \\\n",
       "0  Resort Hotel            0        342               2015               July   \n",
       "1  Resort Hotel            0        737               2015               July   \n",
       "2  Resort Hotel            0          7               2015               July   \n",
       "3  Resort Hotel            0         13               2015               July   \n",
       "4  Resort Hotel            0         14               2015               July   \n",
       "\n",
       "   arrival_date_week_number  arrival_date_day_of_month  \\\n",
       "0                        27                          1   \n",
       "1                        27                          1   \n",
       "2                        27                          1   \n",
       "3                        27                          1   \n",
       "4                        27                          1   \n",
       "\n",
       "   stays_in_weekend_nights  stays_in_week_nights  adults  ...  deposit_type  \\\n",
       "0                        0                     0       2  ...    No Deposit   \n",
       "1                        0                     0       2  ...    No Deposit   \n",
       "2                        0                     1       1  ...    No Deposit   \n",
       "3                        0                     1       1  ...    No Deposit   \n",
       "4                        0                     2       2  ...    No Deposit   \n",
       "\n",
       "   agent company days_in_waiting_list customer_type   adr  \\\n",
       "0    NaN     NaN                    0     Transient   0.0   \n",
       "1    NaN     NaN                    0     Transient   0.0   \n",
       "2    NaN     NaN                    0     Transient  75.0   \n",
       "3  304.0     NaN                    0     Transient  75.0   \n",
       "4  240.0     NaN                    0     Transient  98.0   \n",
       "\n",
       "   required_car_parking_spaces  total_of_special_requests  reservation_status  \\\n",
       "0                            0                          0           Check-Out   \n",
       "1                            0                          0           Check-Out   \n",
       "2                            0                          0           Check-Out   \n",
       "3                            0                          0           Check-Out   \n",
       "4                            0                          1           Check-Out   \n",
       "\n",
       "  reservation_status_date  \n",
       "0              2015-07-01  \n",
       "1              2015-07-01  \n",
       "2              2015-07-02  \n",
       "3              2015-07-02  \n",
       "4              2015-07-03  \n",
       "\n",
       "[5 rows x 32 columns]"
      ]
     },
     "execution_count": 2,
     "metadata": {},
     "output_type": "execute_result"
    }
   ],
   "source": [
    "hotel_bookings = pd.read_csv(\"/kaggle/input/hotel-booking-demand/hotel_bookings.csv\")\n",
    "hotel_bookings.head()"
   ]
  },
  {
   "cell_type": "code",
   "execution_count": 3,
   "id": "5b8da26d",
   "metadata": {
    "execution": {
     "iopub.execute_input": "2024-05-28T12:16:37.447646Z",
     "iopub.status.busy": "2024-05-28T12:16:37.447357Z",
     "iopub.status.idle": "2024-05-28T12:16:37.594413Z",
     "shell.execute_reply": "2024-05-28T12:16:37.593399Z"
    },
    "papermill": {
     "duration": 0.164962,
     "end_time": "2024-05-28T12:16:37.596423",
     "exception": false,
     "start_time": "2024-05-28T12:16:37.431461",
     "status": "completed"
    },
    "tags": []
   },
   "outputs": [
    {
     "name": "stdout",
     "output_type": "stream",
     "text": [
      "<class 'pandas.core.frame.DataFrame'>\n",
      "RangeIndex: 119390 entries, 0 to 119389\n",
      "Data columns (total 32 columns):\n",
      " #   Column                          Non-Null Count   Dtype  \n",
      "---  ------                          --------------   -----  \n",
      " 0   hotel                           119390 non-null  object \n",
      " 1   is_canceled                     119390 non-null  int64  \n",
      " 2   lead_time                       119390 non-null  int64  \n",
      " 3   arrival_date_year               119390 non-null  int64  \n",
      " 4   arrival_date_month              119390 non-null  object \n",
      " 5   arrival_date_week_number        119390 non-null  int64  \n",
      " 6   arrival_date_day_of_month       119390 non-null  int64  \n",
      " 7   stays_in_weekend_nights         119390 non-null  int64  \n",
      " 8   stays_in_week_nights            119390 non-null  int64  \n",
      " 9   adults                          119390 non-null  int64  \n",
      " 10  children                        119386 non-null  float64\n",
      " 11  babies                          119390 non-null  int64  \n",
      " 12  meal                            119390 non-null  object \n",
      " 13  country                         118902 non-null  object \n",
      " 14  market_segment                  119390 non-null  object \n",
      " 15  distribution_channel            119390 non-null  object \n",
      " 16  is_repeated_guest               119390 non-null  int64  \n",
      " 17  previous_cancellations          119390 non-null  int64  \n",
      " 18  previous_bookings_not_canceled  119390 non-null  int64  \n",
      " 19  reserved_room_type              119390 non-null  object \n",
      " 20  assigned_room_type              119390 non-null  object \n",
      " 21  booking_changes                 119390 non-null  int64  \n",
      " 22  deposit_type                    119390 non-null  object \n",
      " 23  agent                           103050 non-null  float64\n",
      " 24  company                         6797 non-null    float64\n",
      " 25  days_in_waiting_list            119390 non-null  int64  \n",
      " 26  customer_type                   119390 non-null  object \n",
      " 27  adr                             119390 non-null  float64\n",
      " 28  required_car_parking_spaces     119390 non-null  int64  \n",
      " 29  total_of_special_requests       119390 non-null  int64  \n",
      " 30  reservation_status              119390 non-null  object \n",
      " 31  reservation_status_date         119390 non-null  object \n",
      "dtypes: float64(4), int64(16), object(12)\n",
      "memory usage: 29.1+ MB\n"
     ]
    }
   ],
   "source": [
    "hotel_bookings.info()"
   ]
  },
  {
   "cell_type": "markdown",
   "id": "66f1a4f6",
   "metadata": {
    "papermill": {
     "duration": 0.014476,
     "end_time": "2024-05-28T12:16:37.625677",
     "exception": false,
     "start_time": "2024-05-28T12:16:37.611201",
     "status": "completed"
    },
    "tags": []
   },
   "source": [
    "# DATA CLEANING\n"
   ]
  },
  {
   "cell_type": "markdown",
   "id": "ee08fe9e",
   "metadata": {
    "papermill": {
     "duration": 0.014378,
     "end_time": "2024-05-28T12:16:37.654736",
     "exception": false,
     "start_time": "2024-05-28T12:16:37.640358",
     "status": "completed"
    },
    "tags": []
   },
   "source": [
    "## Dropping columns"
   ]
  },
  {
   "cell_type": "markdown",
   "id": "d6e8d2a7",
   "metadata": {
    "papermill": {
     "duration": 0.014301,
     "end_time": "2024-05-28T12:16:37.683617",
     "exception": false,
     "start_time": "2024-05-28T12:16:37.669316",
     "status": "completed"
    },
    "tags": []
   },
   "source": [
    "We are going to drop company feature, because most of the values in it are null and the arrival_date_week_number because we will not use it."
   ]
  },
  {
   "cell_type": "code",
   "execution_count": 4,
   "id": "586c45db",
   "metadata": {
    "execution": {
     "iopub.execute_input": "2024-05-28T12:16:37.713862Z",
     "iopub.status.busy": "2024-05-28T12:16:37.713563Z",
     "iopub.status.idle": "2024-05-28T12:16:37.749911Z",
     "shell.execute_reply": "2024-05-28T12:16:37.749120Z"
    },
    "papermill": {
     "duration": 0.053922,
     "end_time": "2024-05-28T12:16:37.752061",
     "exception": false,
     "start_time": "2024-05-28T12:16:37.698139",
     "status": "completed"
    },
    "tags": []
   },
   "outputs": [],
   "source": [
    "hotel_bookings.drop('company',inplace=True,axis=1)\n",
    "hotel_bookings.drop('arrival_date_week_number',inplace=True,axis=1)"
   ]
  },
  {
   "cell_type": "markdown",
   "id": "b9e02a27",
   "metadata": {
    "papermill": {
     "duration": 0.014351,
     "end_time": "2024-05-28T12:16:37.781640",
     "exception": false,
     "start_time": "2024-05-28T12:16:37.767289",
     "status": "completed"
    },
    "tags": []
   },
   "source": [
    "## Handle missing values\n",
    "\n",
    "There are few columns that have missing values (children, country, agent, company)."
   ]
  },
  {
   "cell_type": "code",
   "execution_count": 5,
   "id": "b7bd6481",
   "metadata": {
    "execution": {
     "iopub.execute_input": "2024-05-28T12:16:37.813969Z",
     "iopub.status.busy": "2024-05-28T12:16:37.813345Z",
     "iopub.status.idle": "2024-05-28T12:16:37.945314Z",
     "shell.execute_reply": "2024-05-28T12:16:37.944407Z"
    },
    "papermill": {
     "duration": 0.150235,
     "end_time": "2024-05-28T12:16:37.947341",
     "exception": false,
     "start_time": "2024-05-28T12:16:37.797106",
     "status": "completed"
    },
    "tags": []
   },
   "outputs": [
    {
     "data": {
      "text/plain": [
       "hotel                                 0\n",
       "is_canceled                           0\n",
       "lead_time                             0\n",
       "arrival_date_year                     0\n",
       "arrival_date_month                    0\n",
       "arrival_date_day_of_month             0\n",
       "stays_in_weekend_nights               0\n",
       "stays_in_week_nights                  0\n",
       "adults                                0\n",
       "children                              4\n",
       "babies                                0\n",
       "meal                                  0\n",
       "country                             488\n",
       "market_segment                        0\n",
       "distribution_channel                  0\n",
       "is_repeated_guest                     0\n",
       "previous_cancellations                0\n",
       "previous_bookings_not_canceled        0\n",
       "reserved_room_type                    0\n",
       "assigned_room_type                    0\n",
       "booking_changes                       0\n",
       "deposit_type                          0\n",
       "agent                             16340\n",
       "days_in_waiting_list                  0\n",
       "customer_type                         0\n",
       "adr                                   0\n",
       "required_car_parking_spaces           0\n",
       "total_of_special_requests             0\n",
       "reservation_status                    0\n",
       "reservation_status_date               0\n",
       "dtype: int64"
      ]
     },
     "execution_count": 5,
     "metadata": {},
     "output_type": "execute_result"
    }
   ],
   "source": [
    "hotel_bookings.isnull().sum()"
   ]
  },
  {
   "cell_type": "markdown",
   "id": "2cb589e1",
   "metadata": {
    "papermill": {
     "duration": 0.014981,
     "end_time": "2024-05-28T12:16:38.018260",
     "exception": false,
     "start_time": "2024-05-28T12:16:38.003279",
     "status": "completed"
    },
    "tags": []
   },
   "source": [
    "## Filling Missing Values\n",
    "\n",
    "We are going to fill the null values:\n",
    "* For the children and agent features we will use the median value to replace them.\n",
    "* For the country feature we are going to use the mode method, which will replace the missing values with the most frequent one."
   ]
  },
  {
   "cell_type": "code",
   "execution_count": 6,
   "id": "642cea7d",
   "metadata": {
    "execution": {
     "iopub.execute_input": "2024-05-28T12:16:38.049750Z",
     "iopub.status.busy": "2024-05-28T12:16:38.049106Z",
     "iopub.status.idle": "2024-05-28T12:16:38.058393Z",
     "shell.execute_reply": "2024-05-28T12:16:38.057431Z"
    },
    "papermill": {
     "duration": 0.027211,
     "end_time": "2024-05-28T12:16:38.060321",
     "exception": false,
     "start_time": "2024-05-28T12:16:38.033110",
     "status": "completed"
    },
    "tags": []
   },
   "outputs": [],
   "source": [
    "# replace null values with median for children column\n",
    "hotel_bookings['children'] = hotel_bookings['children'].fillna(hotel_bookings['children'].median())"
   ]
  },
  {
   "cell_type": "code",
   "execution_count": 7,
   "id": "d354595f",
   "metadata": {
    "execution": {
     "iopub.execute_input": "2024-05-28T12:16:38.091343Z",
     "iopub.status.busy": "2024-05-28T12:16:38.090580Z",
     "iopub.status.idle": "2024-05-28T12:16:38.098129Z",
     "shell.execute_reply": "2024-05-28T12:16:38.097298Z"
    },
    "papermill": {
     "duration": 0.025009,
     "end_time": "2024-05-28T12:16:38.100062",
     "exception": false,
     "start_time": "2024-05-28T12:16:38.075053",
     "status": "completed"
    },
    "tags": []
   },
   "outputs": [],
   "source": [
    "# replace null values with median for agent column\n",
    "hotel_bookings['agent'] = hotel_bookings['agent'].fillna(hotel_bookings['agent'].median())"
   ]
  },
  {
   "cell_type": "code",
   "execution_count": 8,
   "id": "c4451a65",
   "metadata": {
    "execution": {
     "iopub.execute_input": "2024-05-28T12:16:38.130720Z",
     "iopub.status.busy": "2024-05-28T12:16:38.130244Z",
     "iopub.status.idle": "2024-05-28T12:16:38.151661Z",
     "shell.execute_reply": "2024-05-28T12:16:38.150835Z"
    },
    "papermill": {
     "duration": 0.038998,
     "end_time": "2024-05-28T12:16:38.153694",
     "exception": false,
     "start_time": "2024-05-28T12:16:38.114696",
     "status": "completed"
    },
    "tags": []
   },
   "outputs": [
    {
     "name": "stdout",
     "output_type": "stream",
     "text": [
      "0    PRT\n",
      "Name: country, dtype: object\n"
     ]
    }
   ],
   "source": [
    "# find which country is more frequent in our data\n",
    "print(hotel_bookings['country'].mode())"
   ]
  },
  {
   "cell_type": "code",
   "execution_count": 9,
   "id": "b3480613",
   "metadata": {
    "execution": {
     "iopub.execute_input": "2024-05-28T12:16:38.184781Z",
     "iopub.status.busy": "2024-05-28T12:16:38.183993Z",
     "iopub.status.idle": "2024-05-28T12:16:38.216573Z",
     "shell.execute_reply": "2024-05-28T12:16:38.215715Z"
    },
    "papermill": {
     "duration": 0.050144,
     "end_time": "2024-05-28T12:16:38.218561",
     "exception": false,
     "start_time": "2024-05-28T12:16:38.168417",
     "status": "completed"
    },
    "tags": []
   },
   "outputs": [],
   "source": [
    "# replace null values with the most frequent value in the country column\n",
    "hotel_bookings['country'].fillna(hotel_bookings['country'].mode()[0], inplace=True)"
   ]
  },
  {
   "cell_type": "markdown",
   "id": "89ab2410",
   "metadata": {
    "papermill": {
     "duration": 0.014641,
     "end_time": "2024-05-28T12:16:38.248542",
     "exception": false,
     "start_time": "2024-05-28T12:16:38.233901",
     "status": "completed"
    },
    "tags": []
   },
   "source": [
    "Let's check our results."
   ]
  },
  {
   "cell_type": "code",
   "execution_count": 10,
   "id": "ac88b021",
   "metadata": {
    "execution": {
     "iopub.execute_input": "2024-05-28T12:16:38.279217Z",
     "iopub.status.busy": "2024-05-28T12:16:38.278949Z",
     "iopub.status.idle": "2024-05-28T12:16:38.409418Z",
     "shell.execute_reply": "2024-05-28T12:16:38.408556Z"
    },
    "papermill": {
     "duration": 0.148089,
     "end_time": "2024-05-28T12:16:38.411406",
     "exception": false,
     "start_time": "2024-05-28T12:16:38.263317",
     "status": "completed"
    },
    "tags": []
   },
   "outputs": [
    {
     "data": {
      "text/plain": [
       "hotel                             0\n",
       "is_canceled                       0\n",
       "lead_time                         0\n",
       "arrival_date_year                 0\n",
       "arrival_date_month                0\n",
       "arrival_date_day_of_month         0\n",
       "stays_in_weekend_nights           0\n",
       "stays_in_week_nights              0\n",
       "adults                            0\n",
       "children                          0\n",
       "babies                            0\n",
       "meal                              0\n",
       "country                           0\n",
       "market_segment                    0\n",
       "distribution_channel              0\n",
       "is_repeated_guest                 0\n",
       "previous_cancellations            0\n",
       "previous_bookings_not_canceled    0\n",
       "reserved_room_type                0\n",
       "assigned_room_type                0\n",
       "booking_changes                   0\n",
       "deposit_type                      0\n",
       "agent                             0\n",
       "days_in_waiting_list              0\n",
       "customer_type                     0\n",
       "adr                               0\n",
       "required_car_parking_spaces       0\n",
       "total_of_special_requests         0\n",
       "reservation_status                0\n",
       "reservation_status_date           0\n",
       "dtype: int64"
      ]
     },
     "execution_count": 10,
     "metadata": {},
     "output_type": "execute_result"
    }
   ],
   "source": [
    "hotel_bookings.isnull().sum()"
   ]
  },
  {
   "cell_type": "markdown",
   "id": "44e456c9",
   "metadata": {
    "papermill": {
     "duration": 0.01473,
     "end_time": "2024-05-28T12:16:38.441278",
     "exception": false,
     "start_time": "2024-05-28T12:16:38.426548",
     "status": "completed"
    },
    "tags": []
   },
   "source": [
    "Now that we are done with the null values we can go further and ask questions in our data."
   ]
  },
  {
   "cell_type": "code",
   "execution_count": 11,
   "id": "e8dfed41",
   "metadata": {
    "execution": {
     "iopub.execute_input": "2024-05-28T12:16:38.472501Z",
     "iopub.status.busy": "2024-05-28T12:16:38.472247Z",
     "iopub.status.idle": "2024-05-28T12:16:38.513719Z",
     "shell.execute_reply": "2024-05-28T12:16:38.512983Z"
    },
    "papermill": {
     "duration": 0.059329,
     "end_time": "2024-05-28T12:16:38.515686",
     "exception": false,
     "start_time": "2024-05-28T12:16:38.456357",
     "status": "completed"
    },
    "tags": []
   },
   "outputs": [],
   "source": [
    "hotel_bookings['arrival_date_year'] = hotel_bookings['arrival_date_year'].apply(str)"
   ]
  },
  {
   "cell_type": "markdown",
   "id": "b7283f82",
   "metadata": {
    "papermill": {
     "duration": 0.015495,
     "end_time": "2024-05-28T12:16:38.548003",
     "exception": false,
     "start_time": "2024-05-28T12:16:38.532508",
     "status": "completed"
    },
    "tags": []
   },
   "source": [
    "## Checking for miswritings"
   ]
  },
  {
   "cell_type": "markdown",
   "id": "60a57223",
   "metadata": {
    "papermill": {
     "duration": 0.014941,
     "end_time": "2024-05-28T12:16:38.577967",
     "exception": false,
     "start_time": "2024-05-28T12:16:38.563026",
     "status": "completed"
    },
    "tags": []
   },
   "source": [
    "There might be miswritings in our data. Therefore we will check the object columns to see if there are errors. Like, in the column arrival_date_month might be typed \"Aug\" instead of \"August\", or in column arrival_date_year might be typed \"'15\" instead of \"2015\" etc. But we can see that there are not miswritings here."
   ]
  },
  {
   "cell_type": "code",
   "execution_count": 12,
   "id": "5f93289b",
   "metadata": {
    "execution": {
     "iopub.execute_input": "2024-05-28T12:16:38.608954Z",
     "iopub.status.busy": "2024-05-28T12:16:38.608637Z",
     "iopub.status.idle": "2024-05-28T12:16:38.717114Z",
     "shell.execute_reply": "2024-05-28T12:16:38.716177Z"
    },
    "papermill": {
     "duration": 0.126519,
     "end_time": "2024-05-28T12:16:38.719348",
     "exception": false,
     "start_time": "2024-05-28T12:16:38.592829",
     "status": "completed"
    },
    "tags": []
   },
   "outputs": [
    {
     "name": "stdout",
     "output_type": "stream",
     "text": [
      "hotel ['Resort Hotel' 'City Hotel']\n",
      "arrival_date_month ['July' 'August' 'September' 'October' 'November' 'December' 'January'\n",
      " 'February' 'March' 'April' 'May' 'June']\n",
      "arrival_date_year ['2015' '2016' '2017']\n",
      "country ['PRT' 'GBR' 'USA' 'ESP' 'IRL' 'FRA' 'ROU' 'NOR' 'OMN' 'ARG' 'POL' 'DEU'\n",
      " 'BEL' 'CHE' 'CN' 'GRC' 'ITA' 'NLD' 'DNK' 'RUS' 'SWE' 'AUS' 'EST' 'CZE'\n",
      " 'BRA' 'FIN' 'MOZ' 'BWA' 'LUX' 'SVN' 'ALB' 'IND' 'CHN' 'MEX' 'MAR' 'UKR'\n",
      " 'SMR' 'LVA' 'PRI' 'SRB' 'CHL' 'AUT' 'BLR' 'LTU' 'TUR' 'ZAF' 'AGO' 'ISR'\n",
      " 'CYM' 'ZMB' 'CPV' 'ZWE' 'DZA' 'KOR' 'CRI' 'HUN' 'ARE' 'TUN' 'JAM' 'HRV'\n",
      " 'HKG' 'IRN' 'GEO' 'AND' 'GIB' 'URY' 'JEY' 'CAF' 'CYP' 'COL' 'GGY' 'KWT'\n",
      " 'NGA' 'MDV' 'VEN' 'SVK' 'FJI' 'KAZ' 'PAK' 'IDN' 'LBN' 'PHL' 'SEN' 'SYC'\n",
      " 'AZE' 'BHR' 'NZL' 'THA' 'DOM' 'MKD' 'MYS' 'ARM' 'JPN' 'LKA' 'CUB' 'CMR'\n",
      " 'BIH' 'MUS' 'COM' 'SUR' 'UGA' 'BGR' 'CIV' 'JOR' 'SYR' 'SGP' 'BDI' 'SAU'\n",
      " 'VNM' 'PLW' 'QAT' 'EGY' 'PER' 'MLT' 'MWI' 'ECU' 'MDG' 'ISL' 'UZB' 'NPL'\n",
      " 'BHS' 'MAC' 'TGO' 'TWN' 'DJI' 'STP' 'KNA' 'ETH' 'IRQ' 'HND' 'RWA' 'KHM'\n",
      " 'MCO' 'BGD' 'IMN' 'TJK' 'NIC' 'BEN' 'VGB' 'TZA' 'GAB' 'GHA' 'TMP' 'GLP'\n",
      " 'KEN' 'LIE' 'GNB' 'MNE' 'UMI' 'MYT' 'FRO' 'MMR' 'PAN' 'BFA' 'LBY' 'MLI'\n",
      " 'NAM' 'BOL' 'PRY' 'BRB' 'ABW' 'AIA' 'SLV' 'DMA' 'PYF' 'GUY' 'LCA' 'ATA'\n",
      " 'GTM' 'ASM' 'MRT' 'NCL' 'KIR' 'SDN' 'ATF' 'SLE' 'LAO']\n",
      "market_segment ['Direct' 'Corporate' 'Online TA' 'Offline TA/TO' 'Complementary' 'Groups'\n",
      " 'Undefined' 'Aviation']\n",
      "distribution_channel ['Direct' 'Corporate' 'TA/TO' 'Undefined' 'GDS']\n",
      "reserved_room_type ['C' 'A' 'D' 'E' 'G' 'F' 'H' 'L' 'P' 'B']\n",
      "assigned_room_type ['C' 'A' 'D' 'E' 'G' 'F' 'I' 'B' 'H' 'P' 'L' 'K']\n",
      "deposit_type ['No Deposit' 'Refundable' 'Non Refund']\n",
      "customer_type ['Transient' 'Contract' 'Transient-Party' 'Group']\n",
      "reservation_status ['Check-Out' 'Canceled' 'No-Show']\n"
     ]
    }
   ],
   "source": [
    "#find the unique values on our data\n",
    "\n",
    "df = pd.DataFrame(hotel_bookings, columns=[\"hotel\", \"arrival_date_month\",\"arrival_date_year\", \"country\", \"market_segment\", \"distribution_channel\", \"reserved_room_type\", \"assigned_room_type\", \"deposit_type\", \"customer_type\", \"reservation_status\"])\n",
    "for col in df:\n",
    "   print (col, df[col].unique())"
   ]
  },
  {
   "cell_type": "markdown",
   "id": "a86c2872",
   "metadata": {
    "papermill": {
     "duration": 0.014919,
     "end_time": "2024-05-28T12:16:38.749911",
     "exception": false,
     "start_time": "2024-05-28T12:16:38.734992",
     "status": "completed"
    },
    "tags": []
   },
   "source": [
    "## Check for logical errors\n",
    "We have three columns (children, adults, babies) that can't be zero all the them at the same row. But we can see that there are 180 rows where all of them are 0."
   ]
  },
  {
   "cell_type": "code",
   "execution_count": 13,
   "id": "cd219022",
   "metadata": {
    "execution": {
     "iopub.execute_input": "2024-05-28T12:16:38.781469Z",
     "iopub.status.busy": "2024-05-28T12:16:38.780923Z",
     "iopub.status.idle": "2024-05-28T12:16:38.813616Z",
     "shell.execute_reply": "2024-05-28T12:16:38.812831Z"
    },
    "papermill": {
     "duration": 0.05087,
     "end_time": "2024-05-28T12:16:38.815822",
     "exception": false,
     "start_time": "2024-05-28T12:16:38.764952",
     "status": "completed"
    },
    "tags": []
   },
   "outputs": [
    {
     "data": {
      "text/html": [
       "<div>\n",
       "<style scoped>\n",
       "    .dataframe tbody tr th:only-of-type {\n",
       "        vertical-align: middle;\n",
       "    }\n",
       "\n",
       "    .dataframe tbody tr th {\n",
       "        vertical-align: top;\n",
       "    }\n",
       "\n",
       "    .dataframe thead th {\n",
       "        text-align: right;\n",
       "    }\n",
       "</style>\n",
       "<table border=\"1\" class=\"dataframe\">\n",
       "  <thead>\n",
       "    <tr style=\"text-align: right;\">\n",
       "      <th></th>\n",
       "      <th>hotel</th>\n",
       "      <th>is_canceled</th>\n",
       "      <th>lead_time</th>\n",
       "      <th>arrival_date_year</th>\n",
       "      <th>arrival_date_month</th>\n",
       "      <th>arrival_date_day_of_month</th>\n",
       "      <th>stays_in_weekend_nights</th>\n",
       "      <th>stays_in_week_nights</th>\n",
       "      <th>adults</th>\n",
       "      <th>children</th>\n",
       "      <th>...</th>\n",
       "      <th>booking_changes</th>\n",
       "      <th>deposit_type</th>\n",
       "      <th>agent</th>\n",
       "      <th>days_in_waiting_list</th>\n",
       "      <th>customer_type</th>\n",
       "      <th>adr</th>\n",
       "      <th>required_car_parking_spaces</th>\n",
       "      <th>total_of_special_requests</th>\n",
       "      <th>reservation_status</th>\n",
       "      <th>reservation_status_date</th>\n",
       "    </tr>\n",
       "  </thead>\n",
       "  <tbody>\n",
       "    <tr>\n",
       "      <th>2224</th>\n",
       "      <td>Resort Hotel</td>\n",
       "      <td>0</td>\n",
       "      <td>1</td>\n",
       "      <td>2015</td>\n",
       "      <td>October</td>\n",
       "      <td>6</td>\n",
       "      <td>0</td>\n",
       "      <td>3</td>\n",
       "      <td>0</td>\n",
       "      <td>0.0</td>\n",
       "      <td>...</td>\n",
       "      <td>1</td>\n",
       "      <td>No Deposit</td>\n",
       "      <td>14.0</td>\n",
       "      <td>0</td>\n",
       "      <td>Transient-Party</td>\n",
       "      <td>0.00</td>\n",
       "      <td>0</td>\n",
       "      <td>0</td>\n",
       "      <td>Check-Out</td>\n",
       "      <td>2015-10-06</td>\n",
       "    </tr>\n",
       "    <tr>\n",
       "      <th>2409</th>\n",
       "      <td>Resort Hotel</td>\n",
       "      <td>0</td>\n",
       "      <td>0</td>\n",
       "      <td>2015</td>\n",
       "      <td>October</td>\n",
       "      <td>12</td>\n",
       "      <td>0</td>\n",
       "      <td>0</td>\n",
       "      <td>0</td>\n",
       "      <td>0.0</td>\n",
       "      <td>...</td>\n",
       "      <td>0</td>\n",
       "      <td>No Deposit</td>\n",
       "      <td>14.0</td>\n",
       "      <td>0</td>\n",
       "      <td>Transient</td>\n",
       "      <td>0.00</td>\n",
       "      <td>0</td>\n",
       "      <td>0</td>\n",
       "      <td>Check-Out</td>\n",
       "      <td>2015-10-12</td>\n",
       "    </tr>\n",
       "    <tr>\n",
       "      <th>3181</th>\n",
       "      <td>Resort Hotel</td>\n",
       "      <td>0</td>\n",
       "      <td>36</td>\n",
       "      <td>2015</td>\n",
       "      <td>November</td>\n",
       "      <td>20</td>\n",
       "      <td>1</td>\n",
       "      <td>2</td>\n",
       "      <td>0</td>\n",
       "      <td>0.0</td>\n",
       "      <td>...</td>\n",
       "      <td>0</td>\n",
       "      <td>No Deposit</td>\n",
       "      <td>38.0</td>\n",
       "      <td>0</td>\n",
       "      <td>Transient-Party</td>\n",
       "      <td>0.00</td>\n",
       "      <td>0</td>\n",
       "      <td>0</td>\n",
       "      <td>Check-Out</td>\n",
       "      <td>2015-11-23</td>\n",
       "    </tr>\n",
       "    <tr>\n",
       "      <th>3684</th>\n",
       "      <td>Resort Hotel</td>\n",
       "      <td>0</td>\n",
       "      <td>165</td>\n",
       "      <td>2015</td>\n",
       "      <td>December</td>\n",
       "      <td>30</td>\n",
       "      <td>1</td>\n",
       "      <td>4</td>\n",
       "      <td>0</td>\n",
       "      <td>0.0</td>\n",
       "      <td>...</td>\n",
       "      <td>1</td>\n",
       "      <td>No Deposit</td>\n",
       "      <td>308.0</td>\n",
       "      <td>122</td>\n",
       "      <td>Transient-Party</td>\n",
       "      <td>0.00</td>\n",
       "      <td>0</td>\n",
       "      <td>0</td>\n",
       "      <td>Check-Out</td>\n",
       "      <td>2016-01-04</td>\n",
       "    </tr>\n",
       "    <tr>\n",
       "      <th>3708</th>\n",
       "      <td>Resort Hotel</td>\n",
       "      <td>0</td>\n",
       "      <td>165</td>\n",
       "      <td>2015</td>\n",
       "      <td>December</td>\n",
       "      <td>30</td>\n",
       "      <td>2</td>\n",
       "      <td>4</td>\n",
       "      <td>0</td>\n",
       "      <td>0.0</td>\n",
       "      <td>...</td>\n",
       "      <td>1</td>\n",
       "      <td>No Deposit</td>\n",
       "      <td>308.0</td>\n",
       "      <td>122</td>\n",
       "      <td>Transient-Party</td>\n",
       "      <td>0.00</td>\n",
       "      <td>0</td>\n",
       "      <td>0</td>\n",
       "      <td>Check-Out</td>\n",
       "      <td>2016-01-05</td>\n",
       "    </tr>\n",
       "    <tr>\n",
       "      <th>...</th>\n",
       "      <td>...</td>\n",
       "      <td>...</td>\n",
       "      <td>...</td>\n",
       "      <td>...</td>\n",
       "      <td>...</td>\n",
       "      <td>...</td>\n",
       "      <td>...</td>\n",
       "      <td>...</td>\n",
       "      <td>...</td>\n",
       "      <td>...</td>\n",
       "      <td>...</td>\n",
       "      <td>...</td>\n",
       "      <td>...</td>\n",
       "      <td>...</td>\n",
       "      <td>...</td>\n",
       "      <td>...</td>\n",
       "      <td>...</td>\n",
       "      <td>...</td>\n",
       "      <td>...</td>\n",
       "      <td>...</td>\n",
       "      <td>...</td>\n",
       "    </tr>\n",
       "    <tr>\n",
       "      <th>115029</th>\n",
       "      <td>City Hotel</td>\n",
       "      <td>0</td>\n",
       "      <td>107</td>\n",
       "      <td>2017</td>\n",
       "      <td>June</td>\n",
       "      <td>27</td>\n",
       "      <td>0</td>\n",
       "      <td>3</td>\n",
       "      <td>0</td>\n",
       "      <td>0.0</td>\n",
       "      <td>...</td>\n",
       "      <td>1</td>\n",
       "      <td>No Deposit</td>\n",
       "      <td>7.0</td>\n",
       "      <td>0</td>\n",
       "      <td>Transient</td>\n",
       "      <td>100.80</td>\n",
       "      <td>0</td>\n",
       "      <td>0</td>\n",
       "      <td>Check-Out</td>\n",
       "      <td>2017-06-30</td>\n",
       "    </tr>\n",
       "    <tr>\n",
       "      <th>115091</th>\n",
       "      <td>City Hotel</td>\n",
       "      <td>0</td>\n",
       "      <td>1</td>\n",
       "      <td>2017</td>\n",
       "      <td>June</td>\n",
       "      <td>30</td>\n",
       "      <td>0</td>\n",
       "      <td>1</td>\n",
       "      <td>0</td>\n",
       "      <td>0.0</td>\n",
       "      <td>...</td>\n",
       "      <td>0</td>\n",
       "      <td>No Deposit</td>\n",
       "      <td>14.0</td>\n",
       "      <td>0</td>\n",
       "      <td>Transient</td>\n",
       "      <td>0.00</td>\n",
       "      <td>1</td>\n",
       "      <td>1</td>\n",
       "      <td>Check-Out</td>\n",
       "      <td>2017-07-01</td>\n",
       "    </tr>\n",
       "    <tr>\n",
       "      <th>116251</th>\n",
       "      <td>City Hotel</td>\n",
       "      <td>0</td>\n",
       "      <td>44</td>\n",
       "      <td>2017</td>\n",
       "      <td>July</td>\n",
       "      <td>15</td>\n",
       "      <td>1</td>\n",
       "      <td>1</td>\n",
       "      <td>0</td>\n",
       "      <td>0.0</td>\n",
       "      <td>...</td>\n",
       "      <td>2</td>\n",
       "      <td>No Deposit</td>\n",
       "      <td>425.0</td>\n",
       "      <td>0</td>\n",
       "      <td>Transient</td>\n",
       "      <td>73.80</td>\n",
       "      <td>0</td>\n",
       "      <td>0</td>\n",
       "      <td>Check-Out</td>\n",
       "      <td>2017-07-17</td>\n",
       "    </tr>\n",
       "    <tr>\n",
       "      <th>116534</th>\n",
       "      <td>City Hotel</td>\n",
       "      <td>0</td>\n",
       "      <td>2</td>\n",
       "      <td>2017</td>\n",
       "      <td>July</td>\n",
       "      <td>15</td>\n",
       "      <td>2</td>\n",
       "      <td>5</td>\n",
       "      <td>0</td>\n",
       "      <td>0.0</td>\n",
       "      <td>...</td>\n",
       "      <td>1</td>\n",
       "      <td>No Deposit</td>\n",
       "      <td>9.0</td>\n",
       "      <td>0</td>\n",
       "      <td>Transient-Party</td>\n",
       "      <td>22.86</td>\n",
       "      <td>0</td>\n",
       "      <td>1</td>\n",
       "      <td>Check-Out</td>\n",
       "      <td>2017-07-22</td>\n",
       "    </tr>\n",
       "    <tr>\n",
       "      <th>117087</th>\n",
       "      <td>City Hotel</td>\n",
       "      <td>0</td>\n",
       "      <td>170</td>\n",
       "      <td>2017</td>\n",
       "      <td>July</td>\n",
       "      <td>27</td>\n",
       "      <td>0</td>\n",
       "      <td>2</td>\n",
       "      <td>0</td>\n",
       "      <td>0.0</td>\n",
       "      <td>...</td>\n",
       "      <td>0</td>\n",
       "      <td>No Deposit</td>\n",
       "      <td>52.0</td>\n",
       "      <td>0</td>\n",
       "      <td>Transient</td>\n",
       "      <td>0.00</td>\n",
       "      <td>0</td>\n",
       "      <td>0</td>\n",
       "      <td>Check-Out</td>\n",
       "      <td>2017-07-29</td>\n",
       "    </tr>\n",
       "  </tbody>\n",
       "</table>\n",
       "<p>180 rows × 30 columns</p>\n",
       "</div>"
      ],
      "text/plain": [
       "               hotel  is_canceled  lead_time arrival_date_year  \\\n",
       "2224    Resort Hotel            0          1              2015   \n",
       "2409    Resort Hotel            0          0              2015   \n",
       "3181    Resort Hotel            0         36              2015   \n",
       "3684    Resort Hotel            0        165              2015   \n",
       "3708    Resort Hotel            0        165              2015   \n",
       "...              ...          ...        ...               ...   \n",
       "115029    City Hotel            0        107              2017   \n",
       "115091    City Hotel            0          1              2017   \n",
       "116251    City Hotel            0         44              2017   \n",
       "116534    City Hotel            0          2              2017   \n",
       "117087    City Hotel            0        170              2017   \n",
       "\n",
       "       arrival_date_month  arrival_date_day_of_month  stays_in_weekend_nights  \\\n",
       "2224              October                          6                        0   \n",
       "2409              October                         12                        0   \n",
       "3181             November                         20                        1   \n",
       "3684             December                         30                        1   \n",
       "3708             December                         30                        2   \n",
       "...                   ...                        ...                      ...   \n",
       "115029               June                         27                        0   \n",
       "115091               June                         30                        0   \n",
       "116251               July                         15                        1   \n",
       "116534               July                         15                        2   \n",
       "117087               July                         27                        0   \n",
       "\n",
       "        stays_in_week_nights  adults  children  ...  booking_changes  \\\n",
       "2224                       3       0       0.0  ...                1   \n",
       "2409                       0       0       0.0  ...                0   \n",
       "3181                       2       0       0.0  ...                0   \n",
       "3684                       4       0       0.0  ...                1   \n",
       "3708                       4       0       0.0  ...                1   \n",
       "...                      ...     ...       ...  ...              ...   \n",
       "115029                     3       0       0.0  ...                1   \n",
       "115091                     1       0       0.0  ...                0   \n",
       "116251                     1       0       0.0  ...                2   \n",
       "116534                     5       0       0.0  ...                1   \n",
       "117087                     2       0       0.0  ...                0   \n",
       "\n",
       "       deposit_type  agent days_in_waiting_list    customer_type     adr  \\\n",
       "2224     No Deposit   14.0                    0  Transient-Party    0.00   \n",
       "2409     No Deposit   14.0                    0        Transient    0.00   \n",
       "3181     No Deposit   38.0                    0  Transient-Party    0.00   \n",
       "3684     No Deposit  308.0                  122  Transient-Party    0.00   \n",
       "3708     No Deposit  308.0                  122  Transient-Party    0.00   \n",
       "...             ...    ...                  ...              ...     ...   \n",
       "115029   No Deposit    7.0                    0        Transient  100.80   \n",
       "115091   No Deposit   14.0                    0        Transient    0.00   \n",
       "116251   No Deposit  425.0                    0        Transient   73.80   \n",
       "116534   No Deposit    9.0                    0  Transient-Party   22.86   \n",
       "117087   No Deposit   52.0                    0        Transient    0.00   \n",
       "\n",
       "        required_car_parking_spaces  total_of_special_requests  \\\n",
       "2224                              0                          0   \n",
       "2409                              0                          0   \n",
       "3181                              0                          0   \n",
       "3684                              0                          0   \n",
       "3708                              0                          0   \n",
       "...                             ...                        ...   \n",
       "115029                            0                          0   \n",
       "115091                            1                          1   \n",
       "116251                            0                          0   \n",
       "116534                            0                          1   \n",
       "117087                            0                          0   \n",
       "\n",
       "       reservation_status reservation_status_date  \n",
       "2224            Check-Out              2015-10-06  \n",
       "2409            Check-Out              2015-10-12  \n",
       "3181            Check-Out              2015-11-23  \n",
       "3684            Check-Out              2016-01-04  \n",
       "3708            Check-Out              2016-01-05  \n",
       "...                   ...                     ...  \n",
       "115029          Check-Out              2017-06-30  \n",
       "115091          Check-Out              2017-07-01  \n",
       "116251          Check-Out              2017-07-17  \n",
       "116534          Check-Out              2017-07-22  \n",
       "117087          Check-Out              2017-07-29  \n",
       "\n",
       "[180 rows x 30 columns]"
      ]
     },
     "execution_count": 13,
     "metadata": {},
     "output_type": "execute_result"
    }
   ],
   "source": [
    "# filter data\n",
    "\n",
    "filter = (hotel_bookings.children == 0) & (hotel_bookings.adults == 0) & (hotel_bookings.babies == 0)\n",
    "hotel_bookings[filter]"
   ]
  },
  {
   "cell_type": "code",
   "execution_count": 14,
   "id": "6bb72876",
   "metadata": {
    "execution": {
     "iopub.execute_input": "2024-05-28T12:16:38.849029Z",
     "iopub.status.busy": "2024-05-28T12:16:38.848323Z",
     "iopub.status.idle": "2024-05-28T12:16:38.900995Z",
     "shell.execute_reply": "2024-05-28T12:16:38.900091Z"
    },
    "papermill": {
     "duration": 0.071247,
     "end_time": "2024-05-28T12:16:38.903060",
     "exception": false,
     "start_time": "2024-05-28T12:16:38.831813",
     "status": "completed"
    },
    "tags": []
   },
   "outputs": [
    {
     "data": {
      "text/html": [
       "<div>\n",
       "<style scoped>\n",
       "    .dataframe tbody tr th:only-of-type {\n",
       "        vertical-align: middle;\n",
       "    }\n",
       "\n",
       "    .dataframe tbody tr th {\n",
       "        vertical-align: top;\n",
       "    }\n",
       "\n",
       "    .dataframe thead th {\n",
       "        text-align: right;\n",
       "    }\n",
       "</style>\n",
       "<table border=\"1\" class=\"dataframe\">\n",
       "  <thead>\n",
       "    <tr style=\"text-align: right;\">\n",
       "      <th></th>\n",
       "      <th>hotel</th>\n",
       "      <th>is_canceled</th>\n",
       "      <th>lead_time</th>\n",
       "      <th>arrival_date_year</th>\n",
       "      <th>arrival_date_month</th>\n",
       "      <th>arrival_date_day_of_month</th>\n",
       "      <th>stays_in_weekend_nights</th>\n",
       "      <th>stays_in_week_nights</th>\n",
       "      <th>adults</th>\n",
       "      <th>children</th>\n",
       "      <th>...</th>\n",
       "      <th>booking_changes</th>\n",
       "      <th>deposit_type</th>\n",
       "      <th>agent</th>\n",
       "      <th>days_in_waiting_list</th>\n",
       "      <th>customer_type</th>\n",
       "      <th>adr</th>\n",
       "      <th>required_car_parking_spaces</th>\n",
       "      <th>total_of_special_requests</th>\n",
       "      <th>reservation_status</th>\n",
       "      <th>reservation_status_date</th>\n",
       "    </tr>\n",
       "  </thead>\n",
       "  <tbody>\n",
       "    <tr>\n",
       "      <th>0</th>\n",
       "      <td>Resort Hotel</td>\n",
       "      <td>0</td>\n",
       "      <td>342</td>\n",
       "      <td>2015</td>\n",
       "      <td>July</td>\n",
       "      <td>1</td>\n",
       "      <td>0</td>\n",
       "      <td>0</td>\n",
       "      <td>2</td>\n",
       "      <td>0.0</td>\n",
       "      <td>...</td>\n",
       "      <td>3</td>\n",
       "      <td>No Deposit</td>\n",
       "      <td>14.0</td>\n",
       "      <td>0</td>\n",
       "      <td>Transient</td>\n",
       "      <td>0.0</td>\n",
       "      <td>0</td>\n",
       "      <td>0</td>\n",
       "      <td>Check-Out</td>\n",
       "      <td>2015-07-01</td>\n",
       "    </tr>\n",
       "    <tr>\n",
       "      <th>1</th>\n",
       "      <td>Resort Hotel</td>\n",
       "      <td>0</td>\n",
       "      <td>737</td>\n",
       "      <td>2015</td>\n",
       "      <td>July</td>\n",
       "      <td>1</td>\n",
       "      <td>0</td>\n",
       "      <td>0</td>\n",
       "      <td>2</td>\n",
       "      <td>0.0</td>\n",
       "      <td>...</td>\n",
       "      <td>4</td>\n",
       "      <td>No Deposit</td>\n",
       "      <td>14.0</td>\n",
       "      <td>0</td>\n",
       "      <td>Transient</td>\n",
       "      <td>0.0</td>\n",
       "      <td>0</td>\n",
       "      <td>0</td>\n",
       "      <td>Check-Out</td>\n",
       "      <td>2015-07-01</td>\n",
       "    </tr>\n",
       "    <tr>\n",
       "      <th>2</th>\n",
       "      <td>Resort Hotel</td>\n",
       "      <td>0</td>\n",
       "      <td>7</td>\n",
       "      <td>2015</td>\n",
       "      <td>July</td>\n",
       "      <td>1</td>\n",
       "      <td>0</td>\n",
       "      <td>1</td>\n",
       "      <td>1</td>\n",
       "      <td>0.0</td>\n",
       "      <td>...</td>\n",
       "      <td>0</td>\n",
       "      <td>No Deposit</td>\n",
       "      <td>14.0</td>\n",
       "      <td>0</td>\n",
       "      <td>Transient</td>\n",
       "      <td>75.0</td>\n",
       "      <td>0</td>\n",
       "      <td>0</td>\n",
       "      <td>Check-Out</td>\n",
       "      <td>2015-07-02</td>\n",
       "    </tr>\n",
       "    <tr>\n",
       "      <th>3</th>\n",
       "      <td>Resort Hotel</td>\n",
       "      <td>0</td>\n",
       "      <td>13</td>\n",
       "      <td>2015</td>\n",
       "      <td>July</td>\n",
       "      <td>1</td>\n",
       "      <td>0</td>\n",
       "      <td>1</td>\n",
       "      <td>1</td>\n",
       "      <td>0.0</td>\n",
       "      <td>...</td>\n",
       "      <td>0</td>\n",
       "      <td>No Deposit</td>\n",
       "      <td>304.0</td>\n",
       "      <td>0</td>\n",
       "      <td>Transient</td>\n",
       "      <td>75.0</td>\n",
       "      <td>0</td>\n",
       "      <td>0</td>\n",
       "      <td>Check-Out</td>\n",
       "      <td>2015-07-02</td>\n",
       "    </tr>\n",
       "    <tr>\n",
       "      <th>4</th>\n",
       "      <td>Resort Hotel</td>\n",
       "      <td>0</td>\n",
       "      <td>14</td>\n",
       "      <td>2015</td>\n",
       "      <td>July</td>\n",
       "      <td>1</td>\n",
       "      <td>0</td>\n",
       "      <td>2</td>\n",
       "      <td>2</td>\n",
       "      <td>0.0</td>\n",
       "      <td>...</td>\n",
       "      <td>0</td>\n",
       "      <td>No Deposit</td>\n",
       "      <td>240.0</td>\n",
       "      <td>0</td>\n",
       "      <td>Transient</td>\n",
       "      <td>98.0</td>\n",
       "      <td>0</td>\n",
       "      <td>1</td>\n",
       "      <td>Check-Out</td>\n",
       "      <td>2015-07-03</td>\n",
       "    </tr>\n",
       "  </tbody>\n",
       "</table>\n",
       "<p>5 rows × 30 columns</p>\n",
       "</div>"
      ],
      "text/plain": [
       "          hotel  is_canceled  lead_time arrival_date_year arrival_date_month  \\\n",
       "0  Resort Hotel            0        342              2015               July   \n",
       "1  Resort Hotel            0        737              2015               July   \n",
       "2  Resort Hotel            0          7              2015               July   \n",
       "3  Resort Hotel            0         13              2015               July   \n",
       "4  Resort Hotel            0         14              2015               July   \n",
       "\n",
       "   arrival_date_day_of_month  stays_in_weekend_nights  stays_in_week_nights  \\\n",
       "0                          1                        0                     0   \n",
       "1                          1                        0                     0   \n",
       "2                          1                        0                     1   \n",
       "3                          1                        0                     1   \n",
       "4                          1                        0                     2   \n",
       "\n",
       "   adults  children  ...  booking_changes deposit_type  agent  \\\n",
       "0       2       0.0  ...                3   No Deposit   14.0   \n",
       "1       2       0.0  ...                4   No Deposit   14.0   \n",
       "2       1       0.0  ...                0   No Deposit   14.0   \n",
       "3       1       0.0  ...                0   No Deposit  304.0   \n",
       "4       2       0.0  ...                0   No Deposit  240.0   \n",
       "\n",
       "  days_in_waiting_list customer_type   adr  required_car_parking_spaces  \\\n",
       "0                    0     Transient   0.0                            0   \n",
       "1                    0     Transient   0.0                            0   \n",
       "2                    0     Transient  75.0                            0   \n",
       "3                    0     Transient  75.0                            0   \n",
       "4                    0     Transient  98.0                            0   \n",
       "\n",
       "   total_of_special_requests reservation_status reservation_status_date  \n",
       "0                          0          Check-Out              2015-07-01  \n",
       "1                          0          Check-Out              2015-07-01  \n",
       "2                          0          Check-Out              2015-07-02  \n",
       "3                          0          Check-Out              2015-07-02  \n",
       "4                          1          Check-Out              2015-07-03  \n",
       "\n",
       "[5 rows x 30 columns]"
      ]
     },
     "execution_count": 14,
     "metadata": {},
     "output_type": "execute_result"
    }
   ],
   "source": [
    "#drop rows with logical errors\n",
    "\n",
    "indexguest = hotel_bookings[(hotel_bookings['children'] == 0) & (hotel_bookings['adults'] == 0) & (hotel_bookings['babies'] == 0)].index\n",
    "hotel_bookings.drop(indexguest , inplace=True)\n",
    "\n",
    "#reset index to our new dataset\n",
    "hotel_bookings.reset_index(drop=True, inplace=True)\n",
    "hotel_bookings.head()"
   ]
  },
  {
   "cell_type": "markdown",
   "id": "bf4caf8b",
   "metadata": {
    "papermill": {
     "duration": 0.015884,
     "end_time": "2024-05-28T12:16:38.935877",
     "exception": false,
     "start_time": "2024-05-28T12:16:38.919993",
     "status": "completed"
    },
    "tags": []
   },
   "source": [
    "Let's check if the rows with the wrong data are dropped. Now our dataset from  119390 rows has 119210 (exactly 180 rows less)"
   ]
  },
  {
   "cell_type": "code",
   "execution_count": 15,
   "id": "26d676c9",
   "metadata": {
    "execution": {
     "iopub.execute_input": "2024-05-28T12:16:38.969168Z",
     "iopub.status.busy": "2024-05-28T12:16:38.968579Z",
     "iopub.status.idle": "2024-05-28T12:16:39.113113Z",
     "shell.execute_reply": "2024-05-28T12:16:39.111840Z"
    },
    "papermill": {
     "duration": 0.163318,
     "end_time": "2024-05-28T12:16:39.115130",
     "exception": false,
     "start_time": "2024-05-28T12:16:38.951812",
     "status": "completed"
    },
    "tags": []
   },
   "outputs": [
    {
     "name": "stdout",
     "output_type": "stream",
     "text": [
      "<class 'pandas.core.frame.DataFrame'>\n",
      "RangeIndex: 119210 entries, 0 to 119209\n",
      "Data columns (total 30 columns):\n",
      " #   Column                          Non-Null Count   Dtype  \n",
      "---  ------                          --------------   -----  \n",
      " 0   hotel                           119210 non-null  object \n",
      " 1   is_canceled                     119210 non-null  int64  \n",
      " 2   lead_time                       119210 non-null  int64  \n",
      " 3   arrival_date_year               119210 non-null  object \n",
      " 4   arrival_date_month              119210 non-null  object \n",
      " 5   arrival_date_day_of_month       119210 non-null  int64  \n",
      " 6   stays_in_weekend_nights         119210 non-null  int64  \n",
      " 7   stays_in_week_nights            119210 non-null  int64  \n",
      " 8   adults                          119210 non-null  int64  \n",
      " 9   children                        119210 non-null  float64\n",
      " 10  babies                          119210 non-null  int64  \n",
      " 11  meal                            119210 non-null  object \n",
      " 12  country                         119210 non-null  object \n",
      " 13  market_segment                  119210 non-null  object \n",
      " 14  distribution_channel            119210 non-null  object \n",
      " 15  is_repeated_guest               119210 non-null  int64  \n",
      " 16  previous_cancellations          119210 non-null  int64  \n",
      " 17  previous_bookings_not_canceled  119210 non-null  int64  \n",
      " 18  reserved_room_type              119210 non-null  object \n",
      " 19  assigned_room_type              119210 non-null  object \n",
      " 20  booking_changes                 119210 non-null  int64  \n",
      " 21  deposit_type                    119210 non-null  object \n",
      " 22  agent                           119210 non-null  float64\n",
      " 23  days_in_waiting_list            119210 non-null  int64  \n",
      " 24  customer_type                   119210 non-null  object \n",
      " 25  adr                             119210 non-null  float64\n",
      " 26  required_car_parking_spaces     119210 non-null  int64  \n",
      " 27  total_of_special_requests       119210 non-null  int64  \n",
      " 28  reservation_status              119210 non-null  object \n",
      " 29  reservation_status_date         119210 non-null  object \n",
      "dtypes: float64(3), int64(14), object(13)\n",
      "memory usage: 27.3+ MB\n"
     ]
    }
   ],
   "source": [
    "hotel_bookings.info()"
   ]
  },
  {
   "cell_type": "code",
   "execution_count": 16,
   "id": "7e2e14ad",
   "metadata": {
    "execution": {
     "iopub.execute_input": "2024-05-28T12:16:39.149147Z",
     "iopub.status.busy": "2024-05-28T12:16:39.148491Z",
     "iopub.status.idle": "2024-05-28T12:16:40.626620Z",
     "shell.execute_reply": "2024-05-28T12:16:40.625807Z"
    },
    "papermill": {
     "duration": 1.497496,
     "end_time": "2024-05-28T12:16:40.628958",
     "exception": false,
     "start_time": "2024-05-28T12:16:39.131462",
     "status": "completed"
    },
    "tags": []
   },
   "outputs": [],
   "source": [
    "hotel_bookings.to_csv('/kaggle/working/hotel_bookings_clean.csv',index=False)"
   ]
  },
  {
   "cell_type": "markdown",
   "id": "31776fb9",
   "metadata": {
    "papermill": {
     "duration": 0.016299,
     "end_time": "2024-05-28T12:16:40.661951",
     "exception": false,
     "start_time": "2024-05-28T12:16:40.645652",
     "status": "completed"
    },
    "tags": []
   },
   "source": [
    "# DATA ANALYSIS"
   ]
  },
  {
   "cell_type": "markdown",
   "id": "6131e30d",
   "metadata": {
    "papermill": {
     "duration": 0.015858,
     "end_time": "2024-05-28T12:16:40.693943",
     "exception": false,
     "start_time": "2024-05-28T12:16:40.678085",
     "status": "completed"
    },
    "tags": []
   },
   "source": [
    "Let's make a dataset which will include only the people that did not cancel their room reservation. And then we will analyze the data for those that did cancelled."
   ]
  },
  {
   "cell_type": "code",
   "execution_count": 17,
   "id": "1ab48df9",
   "metadata": {
    "execution": {
     "iopub.execute_input": "2024-05-28T12:16:40.728116Z",
     "iopub.status.busy": "2024-05-28T12:16:40.727501Z",
     "iopub.status.idle": "2024-05-28T12:16:40.763541Z",
     "shell.execute_reply": "2024-05-28T12:16:40.762694Z"
    },
    "papermill": {
     "duration": 0.055628,
     "end_time": "2024-05-28T12:16:40.765627",
     "exception": false,
     "start_time": "2024-05-28T12:16:40.709999",
     "status": "completed"
    },
    "tags": []
   },
   "outputs": [
    {
     "data": {
      "text/html": [
       "<div>\n",
       "<style scoped>\n",
       "    .dataframe tbody tr th:only-of-type {\n",
       "        vertical-align: middle;\n",
       "    }\n",
       "\n",
       "    .dataframe tbody tr th {\n",
       "        vertical-align: top;\n",
       "    }\n",
       "\n",
       "    .dataframe thead th {\n",
       "        text-align: right;\n",
       "    }\n",
       "</style>\n",
       "<table border=\"1\" class=\"dataframe\">\n",
       "  <thead>\n",
       "    <tr style=\"text-align: right;\">\n",
       "      <th></th>\n",
       "      <th>hotel</th>\n",
       "      <th>is_canceled</th>\n",
       "      <th>lead_time</th>\n",
       "      <th>arrival_date_year</th>\n",
       "      <th>arrival_date_month</th>\n",
       "      <th>arrival_date_day_of_month</th>\n",
       "      <th>stays_in_weekend_nights</th>\n",
       "      <th>stays_in_week_nights</th>\n",
       "      <th>adults</th>\n",
       "      <th>children</th>\n",
       "      <th>...</th>\n",
       "      <th>booking_changes</th>\n",
       "      <th>deposit_type</th>\n",
       "      <th>agent</th>\n",
       "      <th>days_in_waiting_list</th>\n",
       "      <th>customer_type</th>\n",
       "      <th>adr</th>\n",
       "      <th>required_car_parking_spaces</th>\n",
       "      <th>total_of_special_requests</th>\n",
       "      <th>reservation_status</th>\n",
       "      <th>reservation_status_date</th>\n",
       "    </tr>\n",
       "  </thead>\n",
       "  <tbody>\n",
       "    <tr>\n",
       "      <th>0</th>\n",
       "      <td>Resort Hotel</td>\n",
       "      <td>0</td>\n",
       "      <td>342</td>\n",
       "      <td>2015</td>\n",
       "      <td>July</td>\n",
       "      <td>1</td>\n",
       "      <td>0</td>\n",
       "      <td>0</td>\n",
       "      <td>2</td>\n",
       "      <td>0.0</td>\n",
       "      <td>...</td>\n",
       "      <td>3</td>\n",
       "      <td>No Deposit</td>\n",
       "      <td>14.0</td>\n",
       "      <td>0</td>\n",
       "      <td>Transient</td>\n",
       "      <td>0.0</td>\n",
       "      <td>0</td>\n",
       "      <td>0</td>\n",
       "      <td>Check-Out</td>\n",
       "      <td>2015-07-01</td>\n",
       "    </tr>\n",
       "    <tr>\n",
       "      <th>1</th>\n",
       "      <td>Resort Hotel</td>\n",
       "      <td>0</td>\n",
       "      <td>737</td>\n",
       "      <td>2015</td>\n",
       "      <td>July</td>\n",
       "      <td>1</td>\n",
       "      <td>0</td>\n",
       "      <td>0</td>\n",
       "      <td>2</td>\n",
       "      <td>0.0</td>\n",
       "      <td>...</td>\n",
       "      <td>4</td>\n",
       "      <td>No Deposit</td>\n",
       "      <td>14.0</td>\n",
       "      <td>0</td>\n",
       "      <td>Transient</td>\n",
       "      <td>0.0</td>\n",
       "      <td>0</td>\n",
       "      <td>0</td>\n",
       "      <td>Check-Out</td>\n",
       "      <td>2015-07-01</td>\n",
       "    </tr>\n",
       "    <tr>\n",
       "      <th>2</th>\n",
       "      <td>Resort Hotel</td>\n",
       "      <td>0</td>\n",
       "      <td>7</td>\n",
       "      <td>2015</td>\n",
       "      <td>July</td>\n",
       "      <td>1</td>\n",
       "      <td>0</td>\n",
       "      <td>1</td>\n",
       "      <td>1</td>\n",
       "      <td>0.0</td>\n",
       "      <td>...</td>\n",
       "      <td>0</td>\n",
       "      <td>No Deposit</td>\n",
       "      <td>14.0</td>\n",
       "      <td>0</td>\n",
       "      <td>Transient</td>\n",
       "      <td>75.0</td>\n",
       "      <td>0</td>\n",
       "      <td>0</td>\n",
       "      <td>Check-Out</td>\n",
       "      <td>2015-07-02</td>\n",
       "    </tr>\n",
       "    <tr>\n",
       "      <th>3</th>\n",
       "      <td>Resort Hotel</td>\n",
       "      <td>0</td>\n",
       "      <td>13</td>\n",
       "      <td>2015</td>\n",
       "      <td>July</td>\n",
       "      <td>1</td>\n",
       "      <td>0</td>\n",
       "      <td>1</td>\n",
       "      <td>1</td>\n",
       "      <td>0.0</td>\n",
       "      <td>...</td>\n",
       "      <td>0</td>\n",
       "      <td>No Deposit</td>\n",
       "      <td>304.0</td>\n",
       "      <td>0</td>\n",
       "      <td>Transient</td>\n",
       "      <td>75.0</td>\n",
       "      <td>0</td>\n",
       "      <td>0</td>\n",
       "      <td>Check-Out</td>\n",
       "      <td>2015-07-02</td>\n",
       "    </tr>\n",
       "    <tr>\n",
       "      <th>4</th>\n",
       "      <td>Resort Hotel</td>\n",
       "      <td>0</td>\n",
       "      <td>14</td>\n",
       "      <td>2015</td>\n",
       "      <td>July</td>\n",
       "      <td>1</td>\n",
       "      <td>0</td>\n",
       "      <td>2</td>\n",
       "      <td>2</td>\n",
       "      <td>0.0</td>\n",
       "      <td>...</td>\n",
       "      <td>0</td>\n",
       "      <td>No Deposit</td>\n",
       "      <td>240.0</td>\n",
       "      <td>0</td>\n",
       "      <td>Transient</td>\n",
       "      <td>98.0</td>\n",
       "      <td>0</td>\n",
       "      <td>1</td>\n",
       "      <td>Check-Out</td>\n",
       "      <td>2015-07-03</td>\n",
       "    </tr>\n",
       "  </tbody>\n",
       "</table>\n",
       "<p>5 rows × 30 columns</p>\n",
       "</div>"
      ],
      "text/plain": [
       "          hotel  is_canceled  lead_time arrival_date_year arrival_date_month  \\\n",
       "0  Resort Hotel            0        342              2015               July   \n",
       "1  Resort Hotel            0        737              2015               July   \n",
       "2  Resort Hotel            0          7              2015               July   \n",
       "3  Resort Hotel            0         13              2015               July   \n",
       "4  Resort Hotel            0         14              2015               July   \n",
       "\n",
       "   arrival_date_day_of_month  stays_in_weekend_nights  stays_in_week_nights  \\\n",
       "0                          1                        0                     0   \n",
       "1                          1                        0                     0   \n",
       "2                          1                        0                     1   \n",
       "3                          1                        0                     1   \n",
       "4                          1                        0                     2   \n",
       "\n",
       "   adults  children  ...  booking_changes deposit_type  agent  \\\n",
       "0       2       0.0  ...                3   No Deposit   14.0   \n",
       "1       2       0.0  ...                4   No Deposit   14.0   \n",
       "2       1       0.0  ...                0   No Deposit   14.0   \n",
       "3       1       0.0  ...                0   No Deposit  304.0   \n",
       "4       2       0.0  ...                0   No Deposit  240.0   \n",
       "\n",
       "  days_in_waiting_list customer_type   adr  required_car_parking_spaces  \\\n",
       "0                    0     Transient   0.0                            0   \n",
       "1                    0     Transient   0.0                            0   \n",
       "2                    0     Transient  75.0                            0   \n",
       "3                    0     Transient  75.0                            0   \n",
       "4                    0     Transient  98.0                            0   \n",
       "\n",
       "   total_of_special_requests reservation_status reservation_status_date  \n",
       "0                          0          Check-Out              2015-07-01  \n",
       "1                          0          Check-Out              2015-07-01  \n",
       "2                          0          Check-Out              2015-07-02  \n",
       "3                          0          Check-Out              2015-07-02  \n",
       "4                          1          Check-Out              2015-07-03  \n",
       "\n",
       "[5 rows x 30 columns]"
      ]
     },
     "execution_count": 17,
     "metadata": {},
     "output_type": "execute_result"
    }
   ],
   "source": [
    "not_cancelled = hotel_bookings[hotel_bookings['is_canceled'] == 0]\n",
    "not_cancelled.head()"
   ]
  },
  {
   "cell_type": "markdown",
   "id": "4f3e7baa",
   "metadata": {
    "papermill": {
     "duration": 0.017996,
     "end_time": "2024-05-28T12:16:40.800570",
     "exception": false,
     "start_time": "2024-05-28T12:16:40.782574",
     "status": "completed"
    },
    "tags": []
   },
   "source": [
    "Let's ckeck if we have the right dataset. If the there are any values for columns stays_in_weekend_nights and stays_in_week_night have same value 0 or 1, then something is wrong and we have false data. Maybe something wrong with the data entry. Our outcome is False that means we are good to go."
   ]
  },
  {
   "cell_type": "code",
   "execution_count": 18,
   "id": "f68612d0",
   "metadata": {
    "execution": {
     "iopub.execute_input": "2024-05-28T12:16:40.835662Z",
     "iopub.status.busy": "2024-05-28T12:16:40.835054Z",
     "iopub.status.idle": "2024-05-28T12:16:40.840956Z",
     "shell.execute_reply": "2024-05-28T12:16:40.840153Z"
    },
    "papermill": {
     "duration": 0.025515,
     "end_time": "2024-05-28T12:16:40.842893",
     "exception": false,
     "start_time": "2024-05-28T12:16:40.817378",
     "status": "completed"
    },
    "tags": []
   },
   "outputs": [
    {
     "data": {
      "text/plain": [
       "False"
      ]
     },
     "execution_count": 18,
     "metadata": {},
     "output_type": "execute_result"
    }
   ],
   "source": [
    "not_cancelled['stays_in_weekend_nights'].equals(not_cancelled['stays_in_week_nights'])"
   ]
  },
  {
   "cell_type": "markdown",
   "id": "de2c9abd",
   "metadata": {
    "papermill": {
     "duration": 0.016704,
     "end_time": "2024-05-28T12:16:40.876405",
     "exception": false,
     "start_time": "2024-05-28T12:16:40.859701",
     "status": "completed"
    },
    "tags": []
   },
   "source": [
    "The people that did not cancel their reservation is 63% of our data"
   ]
  },
  {
   "cell_type": "code",
   "execution_count": 19,
   "id": "1034bd78",
   "metadata": {
    "execution": {
     "iopub.execute_input": "2024-05-28T12:16:40.910720Z",
     "iopub.status.busy": "2024-05-28T12:16:40.910267Z",
     "iopub.status.idle": "2024-05-28T12:16:41.006135Z",
     "shell.execute_reply": "2024-05-28T12:16:41.005102Z"
    },
    "papermill": {
     "duration": 0.115128,
     "end_time": "2024-05-28T12:16:41.008065",
     "exception": false,
     "start_time": "2024-05-28T12:16:40.892937",
     "status": "completed"
    },
    "tags": []
   },
   "outputs": [
    {
     "name": "stdout",
     "output_type": "stream",
     "text": [
      "<class 'pandas.core.frame.DataFrame'>\n",
      "Index: 75011 entries, 0 to 119209\n",
      "Data columns (total 30 columns):\n",
      " #   Column                          Non-Null Count  Dtype  \n",
      "---  ------                          --------------  -----  \n",
      " 0   hotel                           75011 non-null  object \n",
      " 1   is_canceled                     75011 non-null  int64  \n",
      " 2   lead_time                       75011 non-null  int64  \n",
      " 3   arrival_date_year               75011 non-null  object \n",
      " 4   arrival_date_month              75011 non-null  object \n",
      " 5   arrival_date_day_of_month       75011 non-null  int64  \n",
      " 6   stays_in_weekend_nights         75011 non-null  int64  \n",
      " 7   stays_in_week_nights            75011 non-null  int64  \n",
      " 8   adults                          75011 non-null  int64  \n",
      " 9   children                        75011 non-null  float64\n",
      " 10  babies                          75011 non-null  int64  \n",
      " 11  meal                            75011 non-null  object \n",
      " 12  country                         75011 non-null  object \n",
      " 13  market_segment                  75011 non-null  object \n",
      " 14  distribution_channel            75011 non-null  object \n",
      " 15  is_repeated_guest               75011 non-null  int64  \n",
      " 16  previous_cancellations          75011 non-null  int64  \n",
      " 17  previous_bookings_not_canceled  75011 non-null  int64  \n",
      " 18  reserved_room_type              75011 non-null  object \n",
      " 19  assigned_room_type              75011 non-null  object \n",
      " 20  booking_changes                 75011 non-null  int64  \n",
      " 21  deposit_type                    75011 non-null  object \n",
      " 22  agent                           75011 non-null  float64\n",
      " 23  days_in_waiting_list            75011 non-null  int64  \n",
      " 24  customer_type                   75011 non-null  object \n",
      " 25  adr                             75011 non-null  float64\n",
      " 26  required_car_parking_spaces     75011 non-null  int64  \n",
      " 27  total_of_special_requests       75011 non-null  int64  \n",
      " 28  reservation_status              75011 non-null  object \n",
      " 29  reservation_status_date         75011 non-null  object \n",
      "dtypes: float64(3), int64(14), object(13)\n",
      "memory usage: 17.7+ MB\n"
     ]
    }
   ],
   "source": [
    "not_cancelled.info()"
   ]
  },
  {
   "cell_type": "markdown",
   "id": "825470ea",
   "metadata": {
    "papermill": {
     "duration": 0.016355,
     "end_time": "2024-05-28T12:16:41.041280",
     "exception": false,
     "start_time": "2024-05-28T12:16:41.024925",
     "status": "completed"
    },
    "tags": []
   },
   "source": [
    "We can observe from the following table that:\n",
    "* Mean time for them to check in for their room is 80 days.\n",
    "* Most of them were 2 adults with no kids\n",
    "* The years that our dataset is about are 2015 until 2017 and the year with the most guest is 2016 (49% of our data)\n",
    "* Repeated guests are very low.\n",
    "* The hotel type that was prefered was City Hotel (61% of the guests)\n",
    "* August was the month with the most traffic.\n",
    "* Online Travel Agents is prefered for booking, making no deposit.\n",
    "* Most of the guests wanted a room type A (almost 55% of the dataset).\n",
    "* Most of the guests were from Portugal (29 % of the dataset)"
   ]
  },
  {
   "cell_type": "code",
   "execution_count": 20,
   "id": "dedb537b",
   "metadata": {
    "execution": {
     "iopub.execute_input": "2024-05-28T12:16:41.077170Z",
     "iopub.status.busy": "2024-05-28T12:16:41.076499Z",
     "iopub.status.idle": "2024-05-28T12:16:41.159696Z",
     "shell.execute_reply": "2024-05-28T12:16:41.158826Z"
    },
    "papermill": {
     "duration": 0.103795,
     "end_time": "2024-05-28T12:16:41.161775",
     "exception": false,
     "start_time": "2024-05-28T12:16:41.057980",
     "status": "completed"
    },
    "tags": []
   },
   "outputs": [
    {
     "data": {
      "text/html": [
       "<div>\n",
       "<style scoped>\n",
       "    .dataframe tbody tr th:only-of-type {\n",
       "        vertical-align: middle;\n",
       "    }\n",
       "\n",
       "    .dataframe tbody tr th {\n",
       "        vertical-align: top;\n",
       "    }\n",
       "\n",
       "    .dataframe thead th {\n",
       "        text-align: right;\n",
       "    }\n",
       "</style>\n",
       "<table border=\"1\" class=\"dataframe\">\n",
       "  <thead>\n",
       "    <tr style=\"text-align: right;\">\n",
       "      <th></th>\n",
       "      <th>is_canceled</th>\n",
       "      <th>lead_time</th>\n",
       "      <th>arrival_date_day_of_month</th>\n",
       "      <th>stays_in_weekend_nights</th>\n",
       "      <th>stays_in_week_nights</th>\n",
       "      <th>adults</th>\n",
       "      <th>children</th>\n",
       "      <th>babies</th>\n",
       "      <th>is_repeated_guest</th>\n",
       "      <th>previous_cancellations</th>\n",
       "      <th>previous_bookings_not_canceled</th>\n",
       "      <th>booking_changes</th>\n",
       "      <th>agent</th>\n",
       "      <th>days_in_waiting_list</th>\n",
       "      <th>adr</th>\n",
       "      <th>required_car_parking_spaces</th>\n",
       "      <th>total_of_special_requests</th>\n",
       "    </tr>\n",
       "  </thead>\n",
       "  <tbody>\n",
       "    <tr>\n",
       "      <th>count</th>\n",
       "      <td>75011.0</td>\n",
       "      <td>75011.000000</td>\n",
       "      <td>75011.000000</td>\n",
       "      <td>75011.000000</td>\n",
       "      <td>75011.000000</td>\n",
       "      <td>75011.000000</td>\n",
       "      <td>75011.000000</td>\n",
       "      <td>75011.000000</td>\n",
       "      <td>75011.000000</td>\n",
       "      <td>75011.000000</td>\n",
       "      <td>75011.000000</td>\n",
       "      <td>75011.000000</td>\n",
       "      <td>75011.000000</td>\n",
       "      <td>75011.000000</td>\n",
       "      <td>75011.000000</td>\n",
       "      <td>75011.000000</td>\n",
       "      <td>75011.000000</td>\n",
       "    </tr>\n",
       "    <tr>\n",
       "      <th>mean</th>\n",
       "      <td>0.0</td>\n",
       "      <td>80.082028</td>\n",
       "      <td>15.838810</td>\n",
       "      <td>0.928064</td>\n",
       "      <td>2.461999</td>\n",
       "      <td>1.833518</td>\n",
       "      <td>0.102558</td>\n",
       "      <td>0.010398</td>\n",
       "      <td>0.042727</td>\n",
       "      <td>0.015758</td>\n",
       "      <td>0.203064</td>\n",
       "      <td>0.289784</td>\n",
       "      <td>81.025703</td>\n",
       "      <td>1.587687</td>\n",
       "      <td>100.169212</td>\n",
       "      <td>0.099412</td>\n",
       "      <td>0.714455</td>\n",
       "    </tr>\n",
       "    <tr>\n",
       "      <th>std</th>\n",
       "      <td>0.0</td>\n",
       "      <td>91.137797</td>\n",
       "      <td>8.776488</td>\n",
       "      <td>0.987820</td>\n",
       "      <td>1.907424</td>\n",
       "      <td>0.504148</td>\n",
       "      <td>0.391212</td>\n",
       "      <td>0.113123</td>\n",
       "      <td>0.202242</td>\n",
       "      <td>0.272486</td>\n",
       "      <td>1.812020</td>\n",
       "      <td>0.717243</td>\n",
       "      <td>108.366154</td>\n",
       "      <td>14.781224</td>\n",
       "      <td>49.070644</td>\n",
       "      <td>0.303332</td>\n",
       "      <td>0.834026</td>\n",
       "    </tr>\n",
       "    <tr>\n",
       "      <th>min</th>\n",
       "      <td>0.0</td>\n",
       "      <td>0.000000</td>\n",
       "      <td>1.000000</td>\n",
       "      <td>0.000000</td>\n",
       "      <td>0.000000</td>\n",
       "      <td>0.000000</td>\n",
       "      <td>0.000000</td>\n",
       "      <td>0.000000</td>\n",
       "      <td>0.000000</td>\n",
       "      <td>0.000000</td>\n",
       "      <td>0.000000</td>\n",
       "      <td>0.000000</td>\n",
       "      <td>1.000000</td>\n",
       "      <td>0.000000</td>\n",
       "      <td>-6.380000</td>\n",
       "      <td>0.000000</td>\n",
       "      <td>0.000000</td>\n",
       "    </tr>\n",
       "    <tr>\n",
       "      <th>25%</th>\n",
       "      <td>0.0</td>\n",
       "      <td>9.000000</td>\n",
       "      <td>8.000000</td>\n",
       "      <td>0.000000</td>\n",
       "      <td>1.000000</td>\n",
       "      <td>2.000000</td>\n",
       "      <td>0.000000</td>\n",
       "      <td>0.000000</td>\n",
       "      <td>0.000000</td>\n",
       "      <td>0.000000</td>\n",
       "      <td>0.000000</td>\n",
       "      <td>0.000000</td>\n",
       "      <td>9.000000</td>\n",
       "      <td>0.000000</td>\n",
       "      <td>67.760000</td>\n",
       "      <td>0.000000</td>\n",
       "      <td>0.000000</td>\n",
       "    </tr>\n",
       "    <tr>\n",
       "      <th>50%</th>\n",
       "      <td>0.0</td>\n",
       "      <td>45.000000</td>\n",
       "      <td>16.000000</td>\n",
       "      <td>1.000000</td>\n",
       "      <td>2.000000</td>\n",
       "      <td>2.000000</td>\n",
       "      <td>0.000000</td>\n",
       "      <td>0.000000</td>\n",
       "      <td>0.000000</td>\n",
       "      <td>0.000000</td>\n",
       "      <td>0.000000</td>\n",
       "      <td>0.000000</td>\n",
       "      <td>14.000000</td>\n",
       "      <td>0.000000</td>\n",
       "      <td>92.700000</td>\n",
       "      <td>0.000000</td>\n",
       "      <td>1.000000</td>\n",
       "    </tr>\n",
       "    <tr>\n",
       "      <th>75%</th>\n",
       "      <td>0.0</td>\n",
       "      <td>124.000000</td>\n",
       "      <td>23.000000</td>\n",
       "      <td>2.000000</td>\n",
       "      <td>3.000000</td>\n",
       "      <td>2.000000</td>\n",
       "      <td>0.000000</td>\n",
       "      <td>0.000000</td>\n",
       "      <td>0.000000</td>\n",
       "      <td>0.000000</td>\n",
       "      <td>0.000000</td>\n",
       "      <td>0.000000</td>\n",
       "      <td>171.000000</td>\n",
       "      <td>0.000000</td>\n",
       "      <td>125.000000</td>\n",
       "      <td>0.000000</td>\n",
       "      <td>1.000000</td>\n",
       "    </tr>\n",
       "    <tr>\n",
       "      <th>max</th>\n",
       "      <td>0.0</td>\n",
       "      <td>737.000000</td>\n",
       "      <td>31.000000</td>\n",
       "      <td>19.000000</td>\n",
       "      <td>50.000000</td>\n",
       "      <td>4.000000</td>\n",
       "      <td>3.000000</td>\n",
       "      <td>10.000000</td>\n",
       "      <td>1.000000</td>\n",
       "      <td>13.000000</td>\n",
       "      <td>72.000000</td>\n",
       "      <td>18.000000</td>\n",
       "      <td>535.000000</td>\n",
       "      <td>379.000000</td>\n",
       "      <td>510.000000</td>\n",
       "      <td>8.000000</td>\n",
       "      <td>5.000000</td>\n",
       "    </tr>\n",
       "  </tbody>\n",
       "</table>\n",
       "</div>"
      ],
      "text/plain": [
       "       is_canceled     lead_time  arrival_date_day_of_month  \\\n",
       "count      75011.0  75011.000000               75011.000000   \n",
       "mean           0.0     80.082028                  15.838810   \n",
       "std            0.0     91.137797                   8.776488   \n",
       "min            0.0      0.000000                   1.000000   \n",
       "25%            0.0      9.000000                   8.000000   \n",
       "50%            0.0     45.000000                  16.000000   \n",
       "75%            0.0    124.000000                  23.000000   \n",
       "max            0.0    737.000000                  31.000000   \n",
       "\n",
       "       stays_in_weekend_nights  stays_in_week_nights        adults  \\\n",
       "count             75011.000000          75011.000000  75011.000000   \n",
       "mean                  0.928064              2.461999      1.833518   \n",
       "std                   0.987820              1.907424      0.504148   \n",
       "min                   0.000000              0.000000      0.000000   \n",
       "25%                   0.000000              1.000000      2.000000   \n",
       "50%                   1.000000              2.000000      2.000000   \n",
       "75%                   2.000000              3.000000      2.000000   \n",
       "max                  19.000000             50.000000      4.000000   \n",
       "\n",
       "           children        babies  is_repeated_guest  previous_cancellations  \\\n",
       "count  75011.000000  75011.000000       75011.000000            75011.000000   \n",
       "mean       0.102558      0.010398           0.042727                0.015758   \n",
       "std        0.391212      0.113123           0.202242                0.272486   \n",
       "min        0.000000      0.000000           0.000000                0.000000   \n",
       "25%        0.000000      0.000000           0.000000                0.000000   \n",
       "50%        0.000000      0.000000           0.000000                0.000000   \n",
       "75%        0.000000      0.000000           0.000000                0.000000   \n",
       "max        3.000000     10.000000           1.000000               13.000000   \n",
       "\n",
       "       previous_bookings_not_canceled  booking_changes         agent  \\\n",
       "count                    75011.000000     75011.000000  75011.000000   \n",
       "mean                         0.203064         0.289784     81.025703   \n",
       "std                          1.812020         0.717243    108.366154   \n",
       "min                          0.000000         0.000000      1.000000   \n",
       "25%                          0.000000         0.000000      9.000000   \n",
       "50%                          0.000000         0.000000     14.000000   \n",
       "75%                          0.000000         0.000000    171.000000   \n",
       "max                         72.000000        18.000000    535.000000   \n",
       "\n",
       "       days_in_waiting_list           adr  required_car_parking_spaces  \\\n",
       "count          75011.000000  75011.000000                 75011.000000   \n",
       "mean               1.587687    100.169212                     0.099412   \n",
       "std               14.781224     49.070644                     0.303332   \n",
       "min                0.000000     -6.380000                     0.000000   \n",
       "25%                0.000000     67.760000                     0.000000   \n",
       "50%                0.000000     92.700000                     0.000000   \n",
       "75%                0.000000    125.000000                     0.000000   \n",
       "max              379.000000    510.000000                     8.000000   \n",
       "\n",
       "       total_of_special_requests  \n",
       "count               75011.000000  \n",
       "mean                    0.714455  \n",
       "std                     0.834026  \n",
       "min                     0.000000  \n",
       "25%                     0.000000  \n",
       "50%                     1.000000  \n",
       "75%                     1.000000  \n",
       "max                     5.000000  "
      ]
     },
     "execution_count": 20,
     "metadata": {},
     "output_type": "execute_result"
    }
   ],
   "source": [
    "not_cancelled.describe()"
   ]
  },
  {
   "cell_type": "code",
   "execution_count": 21,
   "id": "c463587e",
   "metadata": {
    "execution": {
     "iopub.execute_input": "2024-05-28T12:16:41.198408Z",
     "iopub.status.busy": "2024-05-28T12:16:41.198137Z",
     "iopub.status.idle": "2024-05-28T12:16:41.458874Z",
     "shell.execute_reply": "2024-05-28T12:16:41.458031Z"
    },
    "papermill": {
     "duration": 0.280755,
     "end_time": "2024-05-28T12:16:41.460932",
     "exception": false,
     "start_time": "2024-05-28T12:16:41.180177",
     "status": "completed"
    },
    "tags": []
   },
   "outputs": [
    {
     "data": {
      "text/html": [
       "<div>\n",
       "<style scoped>\n",
       "    .dataframe tbody tr th:only-of-type {\n",
       "        vertical-align: middle;\n",
       "    }\n",
       "\n",
       "    .dataframe tbody tr th {\n",
       "        vertical-align: top;\n",
       "    }\n",
       "\n",
       "    .dataframe thead th {\n",
       "        text-align: right;\n",
       "    }\n",
       "</style>\n",
       "<table border=\"1\" class=\"dataframe\">\n",
       "  <thead>\n",
       "    <tr style=\"text-align: right;\">\n",
       "      <th></th>\n",
       "      <th>hotel</th>\n",
       "      <th>arrival_date_year</th>\n",
       "      <th>arrival_date_month</th>\n",
       "      <th>meal</th>\n",
       "      <th>country</th>\n",
       "      <th>market_segment</th>\n",
       "      <th>distribution_channel</th>\n",
       "      <th>reserved_room_type</th>\n",
       "      <th>assigned_room_type</th>\n",
       "      <th>deposit_type</th>\n",
       "      <th>customer_type</th>\n",
       "      <th>reservation_status</th>\n",
       "      <th>reservation_status_date</th>\n",
       "    </tr>\n",
       "  </thead>\n",
       "  <tbody>\n",
       "    <tr>\n",
       "      <th>count</th>\n",
       "      <td>75011</td>\n",
       "      <td>75011</td>\n",
       "      <td>75011</td>\n",
       "      <td>75011</td>\n",
       "      <td>75011</td>\n",
       "      <td>75011</td>\n",
       "      <td>75011</td>\n",
       "      <td>75011</td>\n",
       "      <td>75011</td>\n",
       "      <td>75011</td>\n",
       "      <td>75011</td>\n",
       "      <td>75011</td>\n",
       "      <td>75011</td>\n",
       "    </tr>\n",
       "    <tr>\n",
       "      <th>unique</th>\n",
       "      <td>2</td>\n",
       "      <td>3</td>\n",
       "      <td>12</td>\n",
       "      <td>5</td>\n",
       "      <td>165</td>\n",
       "      <td>7</td>\n",
       "      <td>5</td>\n",
       "      <td>9</td>\n",
       "      <td>10</td>\n",
       "      <td>3</td>\n",
       "      <td>4</td>\n",
       "      <td>1</td>\n",
       "      <td>805</td>\n",
       "    </tr>\n",
       "    <tr>\n",
       "      <th>top</th>\n",
       "      <td>City Hotel</td>\n",
       "      <td>2016</td>\n",
       "      <td>August</td>\n",
       "      <td>BB</td>\n",
       "      <td>PRT</td>\n",
       "      <td>Online TA</td>\n",
       "      <td>TA/TO</td>\n",
       "      <td>A</td>\n",
       "      <td>A</td>\n",
       "      <td>No Deposit</td>\n",
       "      <td>Transient</td>\n",
       "      <td>Check-Out</td>\n",
       "      <td>2015-12-08</td>\n",
       "    </tr>\n",
       "    <tr>\n",
       "      <th>freq</th>\n",
       "      <td>46084</td>\n",
       "      <td>36299</td>\n",
       "      <td>8624</td>\n",
       "      <td>57730</td>\n",
       "      <td>21398</td>\n",
       "      <td>35673</td>\n",
       "      <td>57614</td>\n",
       "      <td>52248</td>\n",
       "      <td>41077</td>\n",
       "      <td>74792</td>\n",
       "      <td>52982</td>\n",
       "      <td>75011</td>\n",
       "      <td>243</td>\n",
       "    </tr>\n",
       "  </tbody>\n",
       "</table>\n",
       "</div>"
      ],
      "text/plain": [
       "             hotel arrival_date_year arrival_date_month   meal country  \\\n",
       "count        75011             75011              75011  75011   75011   \n",
       "unique           2                 3                 12      5     165   \n",
       "top     City Hotel              2016             August     BB     PRT   \n",
       "freq         46084             36299               8624  57730   21398   \n",
       "\n",
       "       market_segment distribution_channel reserved_room_type  \\\n",
       "count           75011                75011              75011   \n",
       "unique              7                    5                  9   \n",
       "top         Online TA                TA/TO                  A   \n",
       "freq            35673                57614              52248   \n",
       "\n",
       "       assigned_room_type deposit_type customer_type reservation_status  \\\n",
       "count               75011        75011         75011              75011   \n",
       "unique                 10            3             4                  1   \n",
       "top                     A   No Deposit     Transient          Check-Out   \n",
       "freq                41077        74792         52982              75011   \n",
       "\n",
       "       reservation_status_date  \n",
       "count                    75011  \n",
       "unique                     805  \n",
       "top                 2015-12-08  \n",
       "freq                       243  "
      ]
     },
     "execution_count": 21,
     "metadata": {},
     "output_type": "execute_result"
    }
   ],
   "source": [
    "not_cancelled.describe(include=['O'])"
   ]
  },
  {
   "cell_type": "markdown",
   "id": "459a0a18",
   "metadata": {
    "papermill": {
     "duration": 0.017313,
     "end_time": "2024-05-28T12:16:41.496567",
     "exception": false,
     "start_time": "2024-05-28T12:16:41.479254",
     "status": "completed"
    },
    "tags": []
   },
   "source": [
    "# DATA VISUALIZATION"
   ]
  },
  {
   "cell_type": "markdown",
   "id": "73d93a2e",
   "metadata": {
    "papermill": {
     "duration": 0.017196,
     "end_time": "2024-05-28T12:16:41.531142",
     "exception": false,
     "start_time": "2024-05-28T12:16:41.513946",
     "status": "completed"
    },
    "tags": []
   },
   "source": [
    "Let's observe the above results in a more visual way"
   ]
  },
  {
   "cell_type": "code",
   "execution_count": 22,
   "id": "85c022a4",
   "metadata": {
    "execution": {
     "iopub.execute_input": "2024-05-28T12:16:41.568625Z",
     "iopub.status.busy": "2024-05-28T12:16:41.568019Z",
     "iopub.status.idle": "2024-05-28T12:16:42.670671Z",
     "shell.execute_reply": "2024-05-28T12:16:42.669900Z"
    },
    "papermill": {
     "duration": 1.124296,
     "end_time": "2024-05-28T12:16:42.672985",
     "exception": false,
     "start_time": "2024-05-28T12:16:41.548689",
     "status": "completed"
    },
    "tags": []
   },
   "outputs": [
    {
     "name": "stderr",
     "output_type": "stream",
     "text": [
      "/opt/conda/lib/python3.10/site-packages/scipy/__init__.py:146: UserWarning: A NumPy version >=1.16.5 and <1.23.0 is required for this version of SciPy (detected version 1.23.5\n",
      "  warnings.warn(f\"A NumPy version >={np_minversion} and <{np_maxversion}\"\n"
     ]
    }
   ],
   "source": [
    "import seaborn as sns\n",
    "import matplotlib.pyplot as plt"
   ]
  },
  {
   "cell_type": "code",
   "execution_count": 23,
   "id": "5752d4ee",
   "metadata": {
    "execution": {
     "iopub.execute_input": "2024-05-28T12:16:42.710278Z",
     "iopub.status.busy": "2024-05-28T12:16:42.710004Z",
     "iopub.status.idle": "2024-05-28T12:16:42.916161Z",
     "shell.execute_reply": "2024-05-28T12:16:42.914719Z"
    },
    "papermill": {
     "duration": 0.22857,
     "end_time": "2024-05-28T12:16:42.919734",
     "exception": false,
     "start_time": "2024-05-28T12:16:42.691164",
     "status": "completed"
    },
    "tags": []
   },
   "outputs": [
    {
     "data": {
      "text/plain": [
       "Text(0.5, 1.0, 'Hotel Type Preference')"
      ]
     },
     "execution_count": 23,
     "metadata": {},
     "output_type": "execute_result"
    },
    {
     "data": {
      "image/png": "[encoded data removed]",
      "text/plain": [
       "<Figure size 640x480 with 1 Axes>"
      ]
     },
     "metadata": {},
     "output_type": "display_data"
    }
   ],
   "source": [
    "val=not_cancelled.hotel.value_counts()\n",
    "plt.pie(val,labels=['City Hotel','Resort Hotel'],autopct=\"%1.1f%%\",shadow=True,explode=(0.1,0),textprops={'fontsize': 12})\n",
    "plt.axis('equal')\n",
    "plt.title('Hotel Type Preference', fontsize = 15)"
   ]
  },
  {
   "cell_type": "code",
   "execution_count": 24,
   "id": "706da22d",
   "metadata": {
    "execution": {
     "iopub.execute_input": "2024-05-28T12:16:42.988833Z",
     "iopub.status.busy": "2024-05-28T12:16:42.988533Z",
     "iopub.status.idle": "2024-05-28T12:16:43.636747Z",
     "shell.execute_reply": "2024-05-28T12:16:43.635867Z"
    },
    "papermill": {
     "duration": 0.678722,
     "end_time": "2024-05-28T12:16:43.638944",
     "exception": false,
     "start_time": "2024-05-28T12:16:42.960222",
     "status": "completed"
    },
    "tags": []
   },
   "outputs": [
    {
     "data": {
      "text/plain": [
       "Text(0, 0.5, 'Count')"
      ]
     },
     "execution_count": 24,
     "metadata": {},
     "output_type": "execute_result"
    },
    {
     "data": {
      "image/png": "[encoded data removed]",
      "text/plain": [
       "<Figure size 2000x500 with 1 Axes>"
      ]
     },
     "metadata": {},
     "output_type": "display_data"
    }
   ],
   "source": [
    "# We can simply use a countplot as we sre visualising categorical data\n",
    "plt.figure(figsize=(20,5))\n",
    "\n",
    "# data we will use in a list\n",
    "l1 = ['hotel','arrival_date_month']\n",
    "\n",
    "sns.set(font_scale=1.5)\n",
    "# plotting\n",
    "sns.countplot(data = not_cancelled[l1],x= \"arrival_date_month\",hue=\"hotel\",order=[\"January\",\"February\",\"March\",\"April\",\"May\",\"June\",\n",
    " \"July\",\"August\",\"September\",\"October\",\"November\",\"December\"]).set_title(\n",
    "'Number of Visitors Each Month')\n",
    "    \n",
    "plt.xlabel('Month')\n",
    "plt.ylabel('Count')\n",
    "\n",
    "\n"
   ]
  },
  {
   "cell_type": "code",
   "execution_count": 25,
   "id": "3a701f56",
   "metadata": {
    "execution": {
     "iopub.execute_input": "2024-05-28T12:16:43.679184Z",
     "iopub.status.busy": "2024-05-28T12:16:43.678601Z",
     "iopub.status.idle": "2024-05-28T12:16:44.197241Z",
     "shell.execute_reply": "2024-05-28T12:16:44.196322Z"
    },
    "papermill": {
     "duration": 0.540747,
     "end_time": "2024-05-28T12:16:44.199384",
     "exception": false,
     "start_time": "2024-05-28T12:16:43.658637",
     "status": "completed"
    },
    "tags": []
   },
   "outputs": [
    {
     "data": {
      "text/plain": [
       "Text(0, 0.5, 'Count')"
      ]
     },
     "execution_count": 25,
     "metadata": {},
     "output_type": "execute_result"
    },
    {
     "data": {
      "image/png": "[encoded data removed]",
      "text/plain": [
       "<Figure size 2000x1000 with 1 Axes>"
      ]
     },
     "metadata": {},
     "output_type": "display_data"
    }
   ],
   "source": [
    "# We can simply use a countplot as we are visualising categorical data\n",
    "\n",
    "plt.figure(figsize=(20,10))\n",
    "# data we will use in a list\n",
    "l2 = ['hotel','arrival_date_year']\n",
    "\n",
    "sns.set(font_scale=2)\n",
    "# plotting\n",
    "sns.countplot(data = not_cancelled[l2],x= \"arrival_date_year\",hue=\"hotel\",order=[\"2015\",\"2016\",\"2017\"]).set_title(\n",
    "'Number of Visitors Each Year')\n",
    "    \n",
    "plt.xlabel('Year')\n",
    "plt.ylabel('Count')"
   ]
  },
  {
   "cell_type": "code",
   "execution_count": 26,
   "id": "a5c88fbb",
   "metadata": {
    "execution": {
     "iopub.execute_input": "2024-05-28T12:16:44.241839Z",
     "iopub.status.busy": "2024-05-28T12:16:44.241160Z",
     "iopub.status.idle": "2024-05-28T12:16:44.596090Z",
     "shell.execute_reply": "2024-05-28T12:16:44.595239Z"
    },
    "papermill": {
     "duration": 0.378338,
     "end_time": "2024-05-28T12:16:44.598170",
     "exception": false,
     "start_time": "2024-05-28T12:16:44.219832",
     "status": "completed"
    },
    "tags": []
   },
   "outputs": [
    {
     "data": {
      "text/plain": [
       "<Axes: xlabel='lead_time', ylabel='Count'>"
      ]
     },
     "execution_count": 26,
     "metadata": {},
     "output_type": "execute_result"
    },
    {
     "data": {
      "image/png": "[encoded data removed]",
      "text/plain": [
       "<Figure size 700x500 with 1 Axes>"
      ]
     },
     "metadata": {},
     "output_type": "display_data"
    }
   ],
   "source": [
    "plt.figure(figsize = (7, 5))\n",
    "sns.histplot(not_cancelled[\"lead_time\"], bins = 20)"
   ]
  },
  {
   "cell_type": "markdown",
   "id": "a3f7c6ba",
   "metadata": {
    "papermill": {
     "duration": 0.020388,
     "end_time": "2024-05-28T12:16:44.639775",
     "exception": false,
     "start_time": "2024-05-28T12:16:44.619387",
     "status": "completed"
    },
    "tags": []
   },
   "source": [
    "Let's check from which country we the guests that checked-in. We will limit our data to the countries that had at least 200 guests, in order to plot the countries with the most guests."
   ]
  },
  {
   "cell_type": "code",
   "execution_count": 27,
   "id": "e3a8c8b2",
   "metadata": {
    "execution": {
     "iopub.execute_input": "2024-05-28T12:16:44.682698Z",
     "iopub.status.busy": "2024-05-28T12:16:44.682070Z",
     "iopub.status.idle": "2024-05-28T12:16:44.706250Z",
     "shell.execute_reply": "2024-05-28T12:16:44.705383Z"
    },
    "papermill": {
     "duration": 0.048031,
     "end_time": "2024-05-28T12:16:44.708202",
     "exception": false,
     "start_time": "2024-05-28T12:16:44.660171",
     "status": "completed"
    },
    "tags": []
   },
   "outputs": [
    {
     "data": {
      "text/html": [
       "<div>\n",
       "<style scoped>\n",
       "    .dataframe tbody tr th:only-of-type {\n",
       "        vertical-align: middle;\n",
       "    }\n",
       "\n",
       "    .dataframe tbody tr th {\n",
       "        vertical-align: top;\n",
       "    }\n",
       "\n",
       "    .dataframe thead th {\n",
       "        text-align: right;\n",
       "    }\n",
       "</style>\n",
       "<table border=\"1\" class=\"dataframe\">\n",
       "  <thead>\n",
       "    <tr style=\"text-align: right;\">\n",
       "      <th></th>\n",
       "      <th>country</th>\n",
       "      <th>No of guests</th>\n",
       "    </tr>\n",
       "  </thead>\n",
       "  <tbody>\n",
       "    <tr>\n",
       "      <th>0</th>\n",
       "      <td>PRT</td>\n",
       "      <td>21398</td>\n",
       "    </tr>\n",
       "    <tr>\n",
       "      <th>1</th>\n",
       "      <td>GBR</td>\n",
       "      <td>9668</td>\n",
       "    </tr>\n",
       "    <tr>\n",
       "      <th>2</th>\n",
       "      <td>FRA</td>\n",
       "      <td>8468</td>\n",
       "    </tr>\n",
       "    <tr>\n",
       "      <th>3</th>\n",
       "      <td>ESP</td>\n",
       "      <td>6383</td>\n",
       "    </tr>\n",
       "    <tr>\n",
       "      <th>4</th>\n",
       "      <td>DEU</td>\n",
       "      <td>6067</td>\n",
       "    </tr>\n",
       "    <tr>\n",
       "      <th>...</th>\n",
       "      <td>...</td>\n",
       "      <td>...</td>\n",
       "    </tr>\n",
       "    <tr>\n",
       "      <th>160</th>\n",
       "      <td>BHR</td>\n",
       "      <td>1</td>\n",
       "    </tr>\n",
       "    <tr>\n",
       "      <th>161</th>\n",
       "      <td>DJI</td>\n",
       "      <td>1</td>\n",
       "    </tr>\n",
       "    <tr>\n",
       "      <th>162</th>\n",
       "      <td>MLI</td>\n",
       "      <td>1</td>\n",
       "    </tr>\n",
       "    <tr>\n",
       "      <th>163</th>\n",
       "      <td>NPL</td>\n",
       "      <td>1</td>\n",
       "    </tr>\n",
       "    <tr>\n",
       "      <th>164</th>\n",
       "      <td>FRO</td>\n",
       "      <td>1</td>\n",
       "    </tr>\n",
       "  </tbody>\n",
       "</table>\n",
       "<p>165 rows × 2 columns</p>\n",
       "</div>"
      ],
      "text/plain": [
       "    country  No of guests\n",
       "0       PRT         21398\n",
       "1       GBR          9668\n",
       "2       FRA          8468\n",
       "3       ESP          6383\n",
       "4       DEU          6067\n",
       "..      ...           ...\n",
       "160     BHR             1\n",
       "161     DJI             1\n",
       "162     MLI             1\n",
       "163     NPL             1\n",
       "164     FRO             1\n",
       "\n",
       "[165 rows x 2 columns]"
      ]
     },
     "execution_count": 27,
     "metadata": {},
     "output_type": "execute_result"
    }
   ],
   "source": [
    "country_counts = not_cancelled['country'].value_counts().reset_index()\n",
    "country_counts.columns = ['country', 'No of guests']\n",
    "country_counts"
   ]
  },
  {
   "cell_type": "code",
   "execution_count": 28,
   "id": "d428bba2",
   "metadata": {
    "execution": {
     "iopub.execute_input": "2024-05-28T12:16:44.751531Z",
     "iopub.status.busy": "2024-05-28T12:16:44.751011Z",
     "iopub.status.idle": "2024-05-28T12:16:44.761791Z",
     "shell.execute_reply": "2024-05-28T12:16:44.760970Z"
    },
    "papermill": {
     "duration": 0.034292,
     "end_time": "2024-05-28T12:16:44.763638",
     "exception": false,
     "start_time": "2024-05-28T12:16:44.729346",
     "status": "completed"
    },
    "tags": []
   },
   "outputs": [
    {
     "data": {
      "text/html": [
       "<div>\n",
       "<style scoped>\n",
       "    .dataframe tbody tr th:only-of-type {\n",
       "        vertical-align: middle;\n",
       "    }\n",
       "\n",
       "    .dataframe tbody tr th {\n",
       "        vertical-align: top;\n",
       "    }\n",
       "\n",
       "    .dataframe thead th {\n",
       "        text-align: right;\n",
       "    }\n",
       "</style>\n",
       "<table border=\"1\" class=\"dataframe\">\n",
       "  <thead>\n",
       "    <tr style=\"text-align: right;\">\n",
       "      <th></th>\n",
       "      <th>country</th>\n",
       "      <th>No of guests</th>\n",
       "    </tr>\n",
       "  </thead>\n",
       "  <tbody>\n",
       "    <tr>\n",
       "      <th>0</th>\n",
       "      <td>PRT</td>\n",
       "      <td>21398</td>\n",
       "    </tr>\n",
       "    <tr>\n",
       "      <th>1</th>\n",
       "      <td>GBR</td>\n",
       "      <td>9668</td>\n",
       "    </tr>\n",
       "    <tr>\n",
       "      <th>2</th>\n",
       "      <td>FRA</td>\n",
       "      <td>8468</td>\n",
       "    </tr>\n",
       "    <tr>\n",
       "      <th>3</th>\n",
       "      <td>ESP</td>\n",
       "      <td>6383</td>\n",
       "    </tr>\n",
       "    <tr>\n",
       "      <th>4</th>\n",
       "      <td>DEU</td>\n",
       "      <td>6067</td>\n",
       "    </tr>\n",
       "    <tr>\n",
       "      <th>5</th>\n",
       "      <td>IRL</td>\n",
       "      <td>2542</td>\n",
       "    </tr>\n",
       "    <tr>\n",
       "      <th>6</th>\n",
       "      <td>ITA</td>\n",
       "      <td>2428</td>\n",
       "    </tr>\n",
       "    <tr>\n",
       "      <th>7</th>\n",
       "      <td>BEL</td>\n",
       "      <td>1868</td>\n",
       "    </tr>\n",
       "    <tr>\n",
       "      <th>8</th>\n",
       "      <td>NLD</td>\n",
       "      <td>1716</td>\n",
       "    </tr>\n",
       "    <tr>\n",
       "      <th>9</th>\n",
       "      <td>USA</td>\n",
       "      <td>1592</td>\n",
       "    </tr>\n",
       "    <tr>\n",
       "      <th>10</th>\n",
       "      <td>BRA</td>\n",
       "      <td>1392</td>\n",
       "    </tr>\n",
       "    <tr>\n",
       "      <th>11</th>\n",
       "      <td>CHE</td>\n",
       "      <td>1298</td>\n",
       "    </tr>\n",
       "    <tr>\n",
       "      <th>12</th>\n",
       "      <td>AUT</td>\n",
       "      <td>1033</td>\n",
       "    </tr>\n",
       "    <tr>\n",
       "      <th>13</th>\n",
       "      <td>CN</td>\n",
       "      <td>1025</td>\n",
       "    </tr>\n",
       "    <tr>\n",
       "      <th>14</th>\n",
       "      <td>SWE</td>\n",
       "      <td>793</td>\n",
       "    </tr>\n",
       "    <tr>\n",
       "      <th>15</th>\n",
       "      <td>POL</td>\n",
       "      <td>703</td>\n",
       "    </tr>\n",
       "    <tr>\n",
       "      <th>16</th>\n",
       "      <td>CHN</td>\n",
       "      <td>537</td>\n",
       "    </tr>\n",
       "    <tr>\n",
       "      <th>17</th>\n",
       "      <td>ISR</td>\n",
       "      <td>500</td>\n",
       "    </tr>\n",
       "    <tr>\n",
       "      <th>18</th>\n",
       "      <td>NOR</td>\n",
       "      <td>426</td>\n",
       "    </tr>\n",
       "    <tr>\n",
       "      <th>19</th>\n",
       "      <td>RUS</td>\n",
       "      <td>391</td>\n",
       "    </tr>\n",
       "    <tr>\n",
       "      <th>20</th>\n",
       "      <td>FIN</td>\n",
       "      <td>377</td>\n",
       "    </tr>\n",
       "    <tr>\n",
       "      <th>21</th>\n",
       "      <td>ROU</td>\n",
       "      <td>366</td>\n",
       "    </tr>\n",
       "    <tr>\n",
       "      <th>22</th>\n",
       "      <td>DNK</td>\n",
       "      <td>326</td>\n",
       "    </tr>\n",
       "    <tr>\n",
       "      <th>23</th>\n",
       "      <td>AUS</td>\n",
       "      <td>319</td>\n",
       "    </tr>\n",
       "  </tbody>\n",
       "</table>\n",
       "</div>"
      ],
      "text/plain": [
       "   country  No of guests\n",
       "0      PRT         21398\n",
       "1      GBR          9668\n",
       "2      FRA          8468\n",
       "3      ESP          6383\n",
       "4      DEU          6067\n",
       "5      IRL          2542\n",
       "6      ITA          2428\n",
       "7      BEL          1868\n",
       "8      NLD          1716\n",
       "9      USA          1592\n",
       "10     BRA          1392\n",
       "11     CHE          1298\n",
       "12     AUT          1033\n",
       "13      CN          1025\n",
       "14     SWE           793\n",
       "15     POL           703\n",
       "16     CHN           537\n",
       "17     ISR           500\n",
       "18     NOR           426\n",
       "19     RUS           391\n",
       "20     FIN           377\n",
       "21     ROU           366\n",
       "22     DNK           326\n",
       "23     AUS           319"
      ]
     },
     "execution_count": 28,
     "metadata": {},
     "output_type": "execute_result"
    }
   ],
   "source": [
    "indexguest2 = country_counts[(country_counts['No of guests'] < 200)].index\n",
    "country_counts.drop(indexguest2 , inplace=True)\n",
    "country_counts"
   ]
  },
  {
   "cell_type": "code",
   "execution_count": 29,
   "id": "fca26bc8",
   "metadata": {
    "execution": {
     "iopub.execute_input": "2024-05-28T12:16:44.807504Z",
     "iopub.status.busy": "2024-05-28T12:16:44.806887Z",
     "iopub.status.idle": "2024-05-28T12:16:45.441052Z",
     "shell.execute_reply": "2024-05-28T12:16:45.440171Z"
    },
    "papermill": {
     "duration": 0.658687,
     "end_time": "2024-05-28T12:16:45.443261",
     "exception": false,
     "start_time": "2024-05-28T12:16:44.784574",
     "status": "completed"
    },
    "tags": []
   },
   "outputs": [
    {
     "data": {
      "text/plain": [
       "<Axes: xlabel='country'>"
      ]
     },
     "execution_count": 29,
     "metadata": {},
     "output_type": "execute_result"
    },
    {
     "data": {
      "image/png": "[encoded data removed]",
      "text/plain": [
       "<Figure size 1500x800 with 1 Axes>"
      ]
     },
     "metadata": {},
     "output_type": "display_data"
    }
   ],
   "source": [
    "country_counts.plot(kind='bar',x='country',y='No of guests',figsize=(15,8))"
   ]
  },
  {
   "cell_type": "markdown",
   "id": "100b23f4",
   "metadata": {
    "papermill": {
     "duration": 0.022118,
     "end_time": "2024-05-28T12:16:45.487908",
     "exception": false,
     "start_time": "2024-05-28T12:16:45.465790",
     "status": "completed"
    },
    "tags": []
   },
   "source": [
    "# DATA ANALYSIS FOR CANCELLED ROOM"
   ]
  },
  {
   "cell_type": "code",
   "execution_count": 30,
   "id": "8ba2326c",
   "metadata": {
    "execution": {
     "iopub.execute_input": "2024-05-28T12:16:45.533253Z",
     "iopub.status.busy": "2024-05-28T12:16:45.532949Z",
     "iopub.status.idle": "2024-05-28T12:16:45.563436Z",
     "shell.execute_reply": "2024-05-28T12:16:45.562578Z"
    },
    "papermill": {
     "duration": 0.055351,
     "end_time": "2024-05-28T12:16:45.565271",
     "exception": false,
     "start_time": "2024-05-28T12:16:45.509920",
     "status": "completed"
    },
    "tags": []
   },
   "outputs": [
    {
     "data": {
      "text/html": [
       "<div>\n",
       "<style scoped>\n",
       "    .dataframe tbody tr th:only-of-type {\n",
       "        vertical-align: middle;\n",
       "    }\n",
       "\n",
       "    .dataframe tbody tr th {\n",
       "        vertical-align: top;\n",
       "    }\n",
       "\n",
       "    .dataframe thead th {\n",
       "        text-align: right;\n",
       "    }\n",
       "</style>\n",
       "<table border=\"1\" class=\"dataframe\">\n",
       "  <thead>\n",
       "    <tr style=\"text-align: right;\">\n",
       "      <th></th>\n",
       "      <th>hotel</th>\n",
       "      <th>is_canceled</th>\n",
       "      <th>lead_time</th>\n",
       "      <th>arrival_date_year</th>\n",
       "      <th>arrival_date_month</th>\n",
       "      <th>arrival_date_day_of_month</th>\n",
       "      <th>stays_in_weekend_nights</th>\n",
       "      <th>stays_in_week_nights</th>\n",
       "      <th>adults</th>\n",
       "      <th>children</th>\n",
       "      <th>...</th>\n",
       "      <th>booking_changes</th>\n",
       "      <th>deposit_type</th>\n",
       "      <th>agent</th>\n",
       "      <th>days_in_waiting_list</th>\n",
       "      <th>customer_type</th>\n",
       "      <th>adr</th>\n",
       "      <th>required_car_parking_spaces</th>\n",
       "      <th>total_of_special_requests</th>\n",
       "      <th>reservation_status</th>\n",
       "      <th>reservation_status_date</th>\n",
       "    </tr>\n",
       "  </thead>\n",
       "  <tbody>\n",
       "    <tr>\n",
       "      <th>8</th>\n",
       "      <td>Resort Hotel</td>\n",
       "      <td>1</td>\n",
       "      <td>85</td>\n",
       "      <td>2015</td>\n",
       "      <td>July</td>\n",
       "      <td>1</td>\n",
       "      <td>0</td>\n",
       "      <td>3</td>\n",
       "      <td>2</td>\n",
       "      <td>0.0</td>\n",
       "      <td>...</td>\n",
       "      <td>0</td>\n",
       "      <td>No Deposit</td>\n",
       "      <td>240.0</td>\n",
       "      <td>0</td>\n",
       "      <td>Transient</td>\n",
       "      <td>82.0</td>\n",
       "      <td>0</td>\n",
       "      <td>1</td>\n",
       "      <td>Canceled</td>\n",
       "      <td>2015-05-06</td>\n",
       "    </tr>\n",
       "    <tr>\n",
       "      <th>9</th>\n",
       "      <td>Resort Hotel</td>\n",
       "      <td>1</td>\n",
       "      <td>75</td>\n",
       "      <td>2015</td>\n",
       "      <td>July</td>\n",
       "      <td>1</td>\n",
       "      <td>0</td>\n",
       "      <td>3</td>\n",
       "      <td>2</td>\n",
       "      <td>0.0</td>\n",
       "      <td>...</td>\n",
       "      <td>0</td>\n",
       "      <td>No Deposit</td>\n",
       "      <td>15.0</td>\n",
       "      <td>0</td>\n",
       "      <td>Transient</td>\n",
       "      <td>105.5</td>\n",
       "      <td>0</td>\n",
       "      <td>0</td>\n",
       "      <td>Canceled</td>\n",
       "      <td>2015-04-22</td>\n",
       "    </tr>\n",
       "    <tr>\n",
       "      <th>10</th>\n",
       "      <td>Resort Hotel</td>\n",
       "      <td>1</td>\n",
       "      <td>23</td>\n",
       "      <td>2015</td>\n",
       "      <td>July</td>\n",
       "      <td>1</td>\n",
       "      <td>0</td>\n",
       "      <td>4</td>\n",
       "      <td>2</td>\n",
       "      <td>0.0</td>\n",
       "      <td>...</td>\n",
       "      <td>0</td>\n",
       "      <td>No Deposit</td>\n",
       "      <td>240.0</td>\n",
       "      <td>0</td>\n",
       "      <td>Transient</td>\n",
       "      <td>123.0</td>\n",
       "      <td>0</td>\n",
       "      <td>0</td>\n",
       "      <td>Canceled</td>\n",
       "      <td>2015-06-23</td>\n",
       "    </tr>\n",
       "    <tr>\n",
       "      <th>27</th>\n",
       "      <td>Resort Hotel</td>\n",
       "      <td>1</td>\n",
       "      <td>60</td>\n",
       "      <td>2015</td>\n",
       "      <td>July</td>\n",
       "      <td>1</td>\n",
       "      <td>2</td>\n",
       "      <td>5</td>\n",
       "      <td>2</td>\n",
       "      <td>0.0</td>\n",
       "      <td>...</td>\n",
       "      <td>0</td>\n",
       "      <td>No Deposit</td>\n",
       "      <td>240.0</td>\n",
       "      <td>0</td>\n",
       "      <td>Transient</td>\n",
       "      <td>107.0</td>\n",
       "      <td>0</td>\n",
       "      <td>2</td>\n",
       "      <td>Canceled</td>\n",
       "      <td>2015-05-11</td>\n",
       "    </tr>\n",
       "    <tr>\n",
       "      <th>32</th>\n",
       "      <td>Resort Hotel</td>\n",
       "      <td>1</td>\n",
       "      <td>96</td>\n",
       "      <td>2015</td>\n",
       "      <td>July</td>\n",
       "      <td>1</td>\n",
       "      <td>2</td>\n",
       "      <td>8</td>\n",
       "      <td>2</td>\n",
       "      <td>0.0</td>\n",
       "      <td>...</td>\n",
       "      <td>0</td>\n",
       "      <td>No Deposit</td>\n",
       "      <td>14.0</td>\n",
       "      <td>0</td>\n",
       "      <td>Transient</td>\n",
       "      <td>108.3</td>\n",
       "      <td>0</td>\n",
       "      <td>2</td>\n",
       "      <td>Canceled</td>\n",
       "      <td>2015-05-29</td>\n",
       "    </tr>\n",
       "  </tbody>\n",
       "</table>\n",
       "<p>5 rows × 30 columns</p>\n",
       "</div>"
      ],
      "text/plain": [
       "           hotel  is_canceled  lead_time arrival_date_year arrival_date_month  \\\n",
       "8   Resort Hotel            1         85              2015               July   \n",
       "9   Resort Hotel            1         75              2015               July   \n",
       "10  Resort Hotel            1         23              2015               July   \n",
       "27  Resort Hotel            1         60              2015               July   \n",
       "32  Resort Hotel            1         96              2015               July   \n",
       "\n",
       "    arrival_date_day_of_month  stays_in_weekend_nights  stays_in_week_nights  \\\n",
       "8                           1                        0                     3   \n",
       "9                           1                        0                     3   \n",
       "10                          1                        0                     4   \n",
       "27                          1                        2                     5   \n",
       "32                          1                        2                     8   \n",
       "\n",
       "    adults  children  ...  booking_changes deposit_type  agent  \\\n",
       "8        2       0.0  ...                0   No Deposit  240.0   \n",
       "9        2       0.0  ...                0   No Deposit   15.0   \n",
       "10       2       0.0  ...                0   No Deposit  240.0   \n",
       "27       2       0.0  ...                0   No Deposit  240.0   \n",
       "32       2       0.0  ...                0   No Deposit   14.0   \n",
       "\n",
       "   days_in_waiting_list customer_type    adr  required_car_parking_spaces  \\\n",
       "8                     0     Transient   82.0                            0   \n",
       "9                     0     Transient  105.5                            0   \n",
       "10                    0     Transient  123.0                            0   \n",
       "27                    0     Transient  107.0                            0   \n",
       "32                    0     Transient  108.3                            0   \n",
       "\n",
       "    total_of_special_requests reservation_status reservation_status_date  \n",
       "8                           1           Canceled              2015-05-06  \n",
       "9                           0           Canceled              2015-04-22  \n",
       "10                          0           Canceled              2015-06-23  \n",
       "27                          2           Canceled              2015-05-11  \n",
       "32                          2           Canceled              2015-05-29  \n",
       "\n",
       "[5 rows x 30 columns]"
      ]
     },
     "execution_count": 30,
     "metadata": {},
     "output_type": "execute_result"
    }
   ],
   "source": [
    "cancelled = hotel_bookings[hotel_bookings['is_canceled'] == 1]\n",
    "cancelled.head()"
   ]
  },
  {
   "cell_type": "markdown",
   "id": "399b6832",
   "metadata": {
    "papermill": {
     "duration": 0.023243,
     "end_time": "2024-05-28T12:16:45.611125",
     "exception": false,
     "start_time": "2024-05-28T12:16:45.587882",
     "status": "completed"
    },
    "tags": []
   },
   "source": [
    "Checking if our dataset is right. By checking the column \"reservation_status\" we can see that it has only values \"Canceled\" and \"No-show\". Therefore, our dataset is right, having only the cancelled data."
   ]
  },
  {
   "cell_type": "code",
   "execution_count": 31,
   "id": "9d2ef974",
   "metadata": {
    "execution": {
     "iopub.execute_input": "2024-05-28T12:16:45.657933Z",
     "iopub.status.busy": "2024-05-28T12:16:45.657622Z",
     "iopub.status.idle": "2024-05-28T12:16:45.666371Z",
     "shell.execute_reply": "2024-05-28T12:16:45.665445Z"
    },
    "papermill": {
     "duration": 0.034942,
     "end_time": "2024-05-28T12:16:45.668387",
     "exception": false,
     "start_time": "2024-05-28T12:16:45.633445",
     "status": "completed"
    },
    "tags": []
   },
   "outputs": [
    {
     "data": {
      "text/plain": [
       "array(['Canceled', 'No-Show'], dtype=object)"
      ]
     },
     "execution_count": 31,
     "metadata": {},
     "output_type": "execute_result"
    }
   ],
   "source": [
    "cancelled['reservation_status'].unique()"
   ]
  },
  {
   "cell_type": "code",
   "execution_count": 32,
   "id": "930e5c40",
   "metadata": {
    "execution": {
     "iopub.execute_input": "2024-05-28T12:16:45.715571Z",
     "iopub.status.busy": "2024-05-28T12:16:45.715026Z",
     "iopub.status.idle": "2024-05-28T12:16:45.720698Z",
     "shell.execute_reply": "2024-05-28T12:16:45.719896Z"
    },
    "papermill": {
     "duration": 0.03183,
     "end_time": "2024-05-28T12:16:45.722793",
     "exception": false,
     "start_time": "2024-05-28T12:16:45.690963",
     "status": "completed"
    },
    "tags": []
   },
   "outputs": [
    {
     "data": {
      "text/plain": [
       "False"
      ]
     },
     "execution_count": 32,
     "metadata": {},
     "output_type": "execute_result"
    }
   ],
   "source": [
    "cancelled['stays_in_weekend_nights'].equals(cancelled['stays_in_week_nights'])"
   ]
  },
  {
   "cell_type": "code",
   "execution_count": 33,
   "id": "4c50c6eb",
   "metadata": {
    "execution": {
     "iopub.execute_input": "2024-05-28T12:16:45.769300Z",
     "iopub.status.busy": "2024-05-28T12:16:45.769043Z",
     "iopub.status.idle": "2024-05-28T12:16:45.832614Z",
     "shell.execute_reply": "2024-05-28T12:16:45.831506Z"
    },
    "papermill": {
     "duration": 0.089094,
     "end_time": "2024-05-28T12:16:45.834519",
     "exception": false,
     "start_time": "2024-05-28T12:16:45.745425",
     "status": "completed"
    },
    "tags": []
   },
   "outputs": [
    {
     "name": "stdout",
     "output_type": "stream",
     "text": [
      "<class 'pandas.core.frame.DataFrame'>\n",
      "Index: 44199 entries, 8 to 117115\n",
      "Data columns (total 30 columns):\n",
      " #   Column                          Non-Null Count  Dtype  \n",
      "---  ------                          --------------  -----  \n",
      " 0   hotel                           44199 non-null  object \n",
      " 1   is_canceled                     44199 non-null  int64  \n",
      " 2   lead_time                       44199 non-null  int64  \n",
      " 3   arrival_date_year               44199 non-null  object \n",
      " 4   arrival_date_month              44199 non-null  object \n",
      " 5   arrival_date_day_of_month       44199 non-null  int64  \n",
      " 6   stays_in_weekend_nights         44199 non-null  int64  \n",
      " 7   stays_in_week_nights            44199 non-null  int64  \n",
      " 8   adults                          44199 non-null  int64  \n",
      " 9   children                        44199 non-null  float64\n",
      " 10  babies                          44199 non-null  int64  \n",
      " 11  meal                            44199 non-null  object \n",
      " 12  country                         44199 non-null  object \n",
      " 13  market_segment                  44199 non-null  object \n",
      " 14  distribution_channel            44199 non-null  object \n",
      " 15  is_repeated_guest               44199 non-null  int64  \n",
      " 16  previous_cancellations          44199 non-null  int64  \n",
      " 17  previous_bookings_not_canceled  44199 non-null  int64  \n",
      " 18  reserved_room_type              44199 non-null  object \n",
      " 19  assigned_room_type              44199 non-null  object \n",
      " 20  booking_changes                 44199 non-null  int64  \n",
      " 21  deposit_type                    44199 non-null  object \n",
      " 22  agent                           44199 non-null  float64\n",
      " 23  days_in_waiting_list            44199 non-null  int64  \n",
      " 24  customer_type                   44199 non-null  object \n",
      " 25  adr                             44199 non-null  float64\n",
      " 26  required_car_parking_spaces     44199 non-null  int64  \n",
      " 27  total_of_special_requests       44199 non-null  int64  \n",
      " 28  reservation_status              44199 non-null  object \n",
      " 29  reservation_status_date         44199 non-null  object \n",
      "dtypes: float64(3), int64(14), object(13)\n",
      "memory usage: 10.5+ MB\n"
     ]
    }
   ],
   "source": [
    "cancelled.info()"
   ]
  },
  {
   "cell_type": "markdown",
   "id": "1432423d",
   "metadata": {
    "papermill": {
     "duration": 0.022625,
     "end_time": "2024-05-28T12:16:45.880090",
     "exception": false,
     "start_time": "2024-05-28T12:16:45.857465",
     "status": "completed"
    },
    "tags": []
   },
   "source": [
    "We can observe from the following table that:\n",
    "* Mean time for them to check in for their room is 144 days. (That means that if the room is booked to many days prior the chech-in day, probably will be cancelled.)\n",
    "* Most of them were 2 adults with no kids\n",
    "* Most cancellations were made for City Hotel (75% of the cancellations)\n",
    "* August had the most cancellations.\n",
    "* Most cancellations were made from Portugal (62 % of the cancellations)"
   ]
  },
  {
   "cell_type": "code",
   "execution_count": 34,
   "id": "f3e0de55",
   "metadata": {
    "execution": {
     "iopub.execute_input": "2024-05-28T12:16:45.927300Z",
     "iopub.status.busy": "2024-05-28T12:16:45.926714Z",
     "iopub.status.idle": "2024-05-28T12:16:46.000236Z",
     "shell.execute_reply": "2024-05-28T12:16:45.999340Z"
    },
    "papermill": {
     "duration": 0.099427,
     "end_time": "2024-05-28T12:16:46.002220",
     "exception": false,
     "start_time": "2024-05-28T12:16:45.902793",
     "status": "completed"
    },
    "tags": []
   },
   "outputs": [
    {
     "data": {
      "text/html": [
       "<div>\n",
       "<style scoped>\n",
       "    .dataframe tbody tr th:only-of-type {\n",
       "        vertical-align: middle;\n",
       "    }\n",
       "\n",
       "    .dataframe tbody tr th {\n",
       "        vertical-align: top;\n",
       "    }\n",
       "\n",
       "    .dataframe thead th {\n",
       "        text-align: right;\n",
       "    }\n",
       "</style>\n",
       "<table border=\"1\" class=\"dataframe\">\n",
       "  <thead>\n",
       "    <tr style=\"text-align: right;\">\n",
       "      <th></th>\n",
       "      <th>is_canceled</th>\n",
       "      <th>lead_time</th>\n",
       "      <th>arrival_date_day_of_month</th>\n",
       "      <th>stays_in_weekend_nights</th>\n",
       "      <th>stays_in_week_nights</th>\n",
       "      <th>adults</th>\n",
       "      <th>children</th>\n",
       "      <th>babies</th>\n",
       "      <th>is_repeated_guest</th>\n",
       "      <th>previous_cancellations</th>\n",
       "      <th>previous_bookings_not_canceled</th>\n",
       "      <th>booking_changes</th>\n",
       "      <th>agent</th>\n",
       "      <th>days_in_waiting_list</th>\n",
       "      <th>adr</th>\n",
       "      <th>required_car_parking_spaces</th>\n",
       "      <th>total_of_special_requests</th>\n",
       "    </tr>\n",
       "  </thead>\n",
       "  <tbody>\n",
       "    <tr>\n",
       "      <th>count</th>\n",
       "      <td>44199.0</td>\n",
       "      <td>44199.000000</td>\n",
       "      <td>44199.000000</td>\n",
       "      <td>44199.000000</td>\n",
       "      <td>44199.00000</td>\n",
       "      <td>44199.000000</td>\n",
       "      <td>44199.000000</td>\n",
       "      <td>44199.000000</td>\n",
       "      <td>44199.000000</td>\n",
       "      <td>44199.000000</td>\n",
       "      <td>44199.000000</td>\n",
       "      <td>44199.000000</td>\n",
       "      <td>44199.000000</td>\n",
       "      <td>44199.000000</td>\n",
       "      <td>44199.000000</td>\n",
       "      <td>44199.0</td>\n",
       "      <td>44199.000000</td>\n",
       "    </tr>\n",
       "    <tr>\n",
       "      <th>mean</th>\n",
       "      <td>1.0</td>\n",
       "      <td>144.886264</td>\n",
       "      <td>15.730673</td>\n",
       "      <td>0.925338</td>\n",
       "      <td>2.56232</td>\n",
       "      <td>1.902803</td>\n",
       "      <td>0.106563</td>\n",
       "      <td>0.003824</td>\n",
       "      <td>0.012444</td>\n",
       "      <td>0.208421</td>\n",
       "      <td>0.025136</td>\n",
       "      <td>0.098328</td>\n",
       "      <td>69.631168</td>\n",
       "      <td>3.566099</td>\n",
       "      <td>105.023703</td>\n",
       "      <td>0.0</td>\n",
       "      <td>0.328899</td>\n",
       "    </tr>\n",
       "    <tr>\n",
       "      <th>std</th>\n",
       "      <td>0.0</td>\n",
       "      <td>118.611795</td>\n",
       "      <td>8.788521</td>\n",
       "      <td>1.007389</td>\n",
       "      <td>1.87780</td>\n",
       "      <td>0.676720</td>\n",
       "      <td>0.411443</td>\n",
       "      <td>0.062447</td>\n",
       "      <td>0.110856</td>\n",
       "      <td>1.332704</td>\n",
       "      <td>0.679133</td>\n",
       "      <td>0.451069</td>\n",
       "      <td>101.270625</td>\n",
       "      <td>21.494677</td>\n",
       "      <td>52.526686</td>\n",
       "      <td>0.0</td>\n",
       "      <td>0.649236</td>\n",
       "    </tr>\n",
       "    <tr>\n",
       "      <th>min</th>\n",
       "      <td>1.0</td>\n",
       "      <td>0.000000</td>\n",
       "      <td>1.000000</td>\n",
       "      <td>0.000000</td>\n",
       "      <td>0.00000</td>\n",
       "      <td>0.000000</td>\n",
       "      <td>0.000000</td>\n",
       "      <td>0.000000</td>\n",
       "      <td>0.000000</td>\n",
       "      <td>0.000000</td>\n",
       "      <td>0.000000</td>\n",
       "      <td>0.000000</td>\n",
       "      <td>1.000000</td>\n",
       "      <td>0.000000</td>\n",
       "      <td>0.000000</td>\n",
       "      <td>0.0</td>\n",
       "      <td>0.000000</td>\n",
       "    </tr>\n",
       "    <tr>\n",
       "      <th>25%</th>\n",
       "      <td>1.0</td>\n",
       "      <td>49.000000</td>\n",
       "      <td>8.000000</td>\n",
       "      <td>0.000000</td>\n",
       "      <td>1.00000</td>\n",
       "      <td>2.000000</td>\n",
       "      <td>0.000000</td>\n",
       "      <td>0.000000</td>\n",
       "      <td>0.000000</td>\n",
       "      <td>0.000000</td>\n",
       "      <td>0.000000</td>\n",
       "      <td>0.000000</td>\n",
       "      <td>9.000000</td>\n",
       "      <td>0.000000</td>\n",
       "      <td>72.800000</td>\n",
       "      <td>0.0</td>\n",
       "      <td>0.000000</td>\n",
       "    </tr>\n",
       "    <tr>\n",
       "      <th>50%</th>\n",
       "      <td>1.0</td>\n",
       "      <td>113.000000</td>\n",
       "      <td>16.000000</td>\n",
       "      <td>1.000000</td>\n",
       "      <td>2.00000</td>\n",
       "      <td>2.000000</td>\n",
       "      <td>0.000000</td>\n",
       "      <td>0.000000</td>\n",
       "      <td>0.000000</td>\n",
       "      <td>0.000000</td>\n",
       "      <td>0.000000</td>\n",
       "      <td>0.000000</td>\n",
       "      <td>14.000000</td>\n",
       "      <td>0.000000</td>\n",
       "      <td>96.300000</td>\n",
       "      <td>0.0</td>\n",
       "      <td>0.000000</td>\n",
       "    </tr>\n",
       "    <tr>\n",
       "      <th>75%</th>\n",
       "      <td>1.0</td>\n",
       "      <td>214.000000</td>\n",
       "      <td>23.000000</td>\n",
       "      <td>2.000000</td>\n",
       "      <td>3.00000</td>\n",
       "      <td>2.000000</td>\n",
       "      <td>0.000000</td>\n",
       "      <td>0.000000</td>\n",
       "      <td>0.000000</td>\n",
       "      <td>0.000000</td>\n",
       "      <td>0.000000</td>\n",
       "      <td>0.000000</td>\n",
       "      <td>96.000000</td>\n",
       "      <td>0.000000</td>\n",
       "      <td>127.670000</td>\n",
       "      <td>0.0</td>\n",
       "      <td>0.000000</td>\n",
       "    </tr>\n",
       "    <tr>\n",
       "      <th>max</th>\n",
       "      <td>1.0</td>\n",
       "      <td>629.000000</td>\n",
       "      <td>31.000000</td>\n",
       "      <td>16.000000</td>\n",
       "      <td>40.00000</td>\n",
       "      <td>55.000000</td>\n",
       "      <td>10.000000</td>\n",
       "      <td>2.000000</td>\n",
       "      <td>1.000000</td>\n",
       "      <td>26.000000</td>\n",
       "      <td>58.000000</td>\n",
       "      <td>16.000000</td>\n",
       "      <td>531.000000</td>\n",
       "      <td>391.000000</td>\n",
       "      <td>5400.000000</td>\n",
       "      <td>0.0</td>\n",
       "      <td>5.000000</td>\n",
       "    </tr>\n",
       "  </tbody>\n",
       "</table>\n",
       "</div>"
      ],
      "text/plain": [
       "       is_canceled     lead_time  arrival_date_day_of_month  \\\n",
       "count      44199.0  44199.000000               44199.000000   \n",
       "mean           1.0    144.886264                  15.730673   \n",
       "std            0.0    118.611795                   8.788521   \n",
       "min            1.0      0.000000                   1.000000   \n",
       "25%            1.0     49.000000                   8.000000   \n",
       "50%            1.0    113.000000                  16.000000   \n",
       "75%            1.0    214.000000                  23.000000   \n",
       "max            1.0    629.000000                  31.000000   \n",
       "\n",
       "       stays_in_weekend_nights  stays_in_week_nights        adults  \\\n",
       "count             44199.000000           44199.00000  44199.000000   \n",
       "mean                  0.925338               2.56232      1.902803   \n",
       "std                   1.007389               1.87780      0.676720   \n",
       "min                   0.000000               0.00000      0.000000   \n",
       "25%                   0.000000               1.00000      2.000000   \n",
       "50%                   1.000000               2.00000      2.000000   \n",
       "75%                   2.000000               3.00000      2.000000   \n",
       "max                  16.000000              40.00000     55.000000   \n",
       "\n",
       "           children        babies  is_repeated_guest  previous_cancellations  \\\n",
       "count  44199.000000  44199.000000       44199.000000            44199.000000   \n",
       "mean       0.106563      0.003824           0.012444                0.208421   \n",
       "std        0.411443      0.062447           0.110856                1.332704   \n",
       "min        0.000000      0.000000           0.000000                0.000000   \n",
       "25%        0.000000      0.000000           0.000000                0.000000   \n",
       "50%        0.000000      0.000000           0.000000                0.000000   \n",
       "75%        0.000000      0.000000           0.000000                0.000000   \n",
       "max       10.000000      2.000000           1.000000               26.000000   \n",
       "\n",
       "       previous_bookings_not_canceled  booking_changes         agent  \\\n",
       "count                    44199.000000     44199.000000  44199.000000   \n",
       "mean                         0.025136         0.098328     69.631168   \n",
       "std                          0.679133         0.451069    101.270625   \n",
       "min                          0.000000         0.000000      1.000000   \n",
       "25%                          0.000000         0.000000      9.000000   \n",
       "50%                          0.000000         0.000000     14.000000   \n",
       "75%                          0.000000         0.000000     96.000000   \n",
       "max                         58.000000        16.000000    531.000000   \n",
       "\n",
       "       days_in_waiting_list           adr  required_car_parking_spaces  \\\n",
       "count          44199.000000  44199.000000                      44199.0   \n",
       "mean               3.566099    105.023703                          0.0   \n",
       "std               21.494677     52.526686                          0.0   \n",
       "min                0.000000      0.000000                          0.0   \n",
       "25%                0.000000     72.800000                          0.0   \n",
       "50%                0.000000     96.300000                          0.0   \n",
       "75%                0.000000    127.670000                          0.0   \n",
       "max              391.000000   5400.000000                          0.0   \n",
       "\n",
       "       total_of_special_requests  \n",
       "count               44199.000000  \n",
       "mean                    0.328899  \n",
       "std                     0.649236  \n",
       "min                     0.000000  \n",
       "25%                     0.000000  \n",
       "50%                     0.000000  \n",
       "75%                     0.000000  \n",
       "max                     5.000000  "
      ]
     },
     "execution_count": 34,
     "metadata": {},
     "output_type": "execute_result"
    }
   ],
   "source": [
    "cancelled.describe()"
   ]
  },
  {
   "cell_type": "code",
   "execution_count": 35,
   "id": "bcaee5b0",
   "metadata": {
    "execution": {
     "iopub.execute_input": "2024-05-28T12:16:46.051165Z",
     "iopub.status.busy": "2024-05-28T12:16:46.050879Z",
     "iopub.status.idle": "2024-05-28T12:16:46.213287Z",
     "shell.execute_reply": "2024-05-28T12:16:46.212356Z"
    },
    "papermill": {
     "duration": 0.189069,
     "end_time": "2024-05-28T12:16:46.215235",
     "exception": false,
     "start_time": "2024-05-28T12:16:46.026166",
     "status": "completed"
    },
    "tags": []
   },
   "outputs": [
    {
     "data": {
      "text/html": [
       "<div>\n",
       "<style scoped>\n",
       "    .dataframe tbody tr th:only-of-type {\n",
       "        vertical-align: middle;\n",
       "    }\n",
       "\n",
       "    .dataframe tbody tr th {\n",
       "        vertical-align: top;\n",
       "    }\n",
       "\n",
       "    .dataframe thead th {\n",
       "        text-align: right;\n",
       "    }\n",
       "</style>\n",
       "<table border=\"1\" class=\"dataframe\">\n",
       "  <thead>\n",
       "    <tr style=\"text-align: right;\">\n",
       "      <th></th>\n",
       "      <th>hotel</th>\n",
       "      <th>arrival_date_year</th>\n",
       "      <th>arrival_date_month</th>\n",
       "      <th>meal</th>\n",
       "      <th>country</th>\n",
       "      <th>market_segment</th>\n",
       "      <th>distribution_channel</th>\n",
       "      <th>reserved_room_type</th>\n",
       "      <th>assigned_room_type</th>\n",
       "      <th>deposit_type</th>\n",
       "      <th>customer_type</th>\n",
       "      <th>reservation_status</th>\n",
       "      <th>reservation_status_date</th>\n",
       "    </tr>\n",
       "  </thead>\n",
       "  <tbody>\n",
       "    <tr>\n",
       "      <th>count</th>\n",
       "      <td>44199</td>\n",
       "      <td>44199</td>\n",
       "      <td>44199</td>\n",
       "      <td>44199</td>\n",
       "      <td>44199</td>\n",
       "      <td>44199</td>\n",
       "      <td>44199</td>\n",
       "      <td>44199</td>\n",
       "      <td>44199</td>\n",
       "      <td>44199</td>\n",
       "      <td>44199</td>\n",
       "      <td>44199</td>\n",
       "      <td>44199</td>\n",
       "    </tr>\n",
       "    <tr>\n",
       "      <th>unique</th>\n",
       "      <td>2</td>\n",
       "      <td>3</td>\n",
       "      <td>12</td>\n",
       "      <td>5</td>\n",
       "      <td>127</td>\n",
       "      <td>8</td>\n",
       "      <td>5</td>\n",
       "      <td>9</td>\n",
       "      <td>11</td>\n",
       "      <td>3</td>\n",
       "      <td>4</td>\n",
       "      <td>2</td>\n",
       "      <td>902</td>\n",
       "    </tr>\n",
       "    <tr>\n",
       "      <th>top</th>\n",
       "      <td>City Hotel</td>\n",
       "      <td>2016</td>\n",
       "      <td>August</td>\n",
       "      <td>BB</td>\n",
       "      <td>PRT</td>\n",
       "      <td>Online TA</td>\n",
       "      <td>TA/TO</td>\n",
       "      <td>A</td>\n",
       "      <td>A</td>\n",
       "      <td>No Deposit</td>\n",
       "      <td>Transient</td>\n",
       "      <td>Canceled</td>\n",
       "      <td>2015-10-21</td>\n",
       "    </tr>\n",
       "    <tr>\n",
       "      <th>freq</th>\n",
       "      <td>33079</td>\n",
       "      <td>20324</td>\n",
       "      <td>5237</td>\n",
       "      <td>34506</td>\n",
       "      <td>27563</td>\n",
       "      <td>20735</td>\n",
       "      <td>40136</td>\n",
       "      <td>33625</td>\n",
       "      <td>32943</td>\n",
       "      <td>29669</td>\n",
       "      <td>36494</td>\n",
       "      <td>42993</td>\n",
       "      <td>1373</td>\n",
       "    </tr>\n",
       "  </tbody>\n",
       "</table>\n",
       "</div>"
      ],
      "text/plain": [
       "             hotel arrival_date_year arrival_date_month   meal country  \\\n",
       "count        44199             44199              44199  44199   44199   \n",
       "unique           2                 3                 12      5     127   \n",
       "top     City Hotel              2016             August     BB     PRT   \n",
       "freq         33079             20324               5237  34506   27563   \n",
       "\n",
       "       market_segment distribution_channel reserved_room_type  \\\n",
       "count           44199                44199              44199   \n",
       "unique              8                    5                  9   \n",
       "top         Online TA                TA/TO                  A   \n",
       "freq            20735                40136              33625   \n",
       "\n",
       "       assigned_room_type deposit_type customer_type reservation_status  \\\n",
       "count               44199        44199         44199              44199   \n",
       "unique                 11            3             4                  2   \n",
       "top                     A   No Deposit     Transient           Canceled   \n",
       "freq                32943        29669         36494              42993   \n",
       "\n",
       "       reservation_status_date  \n",
       "count                    44199  \n",
       "unique                     902  \n",
       "top                 2015-10-21  \n",
       "freq                      1373  "
      ]
     },
     "execution_count": 35,
     "metadata": {},
     "output_type": "execute_result"
    }
   ],
   "source": [
    "cancelled.describe(include=['O'])"
   ]
  },
  {
   "cell_type": "markdown",
   "id": "cef91cb9",
   "metadata": {
    "papermill": {
     "duration": 0.025344,
     "end_time": "2024-05-28T12:16:46.265523",
     "exception": false,
     "start_time": "2024-05-28T12:16:46.240179",
     "status": "completed"
    },
    "tags": []
   },
   "source": [
    "## COMPARE VISUALY THE GUESTS WHO CANCELLED THE BOOKING AND THOSE WHO CHECKED IN THEIR RESERVATION"
   ]
  },
  {
   "cell_type": "code",
   "execution_count": 36,
   "id": "6d39eb1c",
   "metadata": {
    "execution": {
     "iopub.execute_input": "2024-05-28T12:16:46.313660Z",
     "iopub.status.busy": "2024-05-28T12:16:46.313360Z",
     "iopub.status.idle": "2024-05-28T12:16:46.543472Z",
     "shell.execute_reply": "2024-05-28T12:16:46.542595Z"
    },
    "papermill": {
     "duration": 0.256559,
     "end_time": "2024-05-28T12:16:46.545515",
     "exception": false,
     "start_time": "2024-05-28T12:16:46.288956",
     "status": "completed"
    },
    "tags": []
   },
   "outputs": [
    {
     "data": {
      "text/plain": [
       "Text(0.5, 1.0, 'Cancellation vs Hotel Type')"
      ]
     },
     "execution_count": 36,
     "metadata": {},
     "output_type": "execute_result"
    },
    {
     "data": {
      "image/png": "[encoded data removed]",
      "text/plain": [
       "<Figure size 1000x1000 with 2 Axes>"
      ]
     },
     "metadata": {},
     "output_type": "display_data"
    }
   ],
   "source": [
    "fig, (ax1,ax2) = plt.subplots(1,2,figsize=(10,10)) #ax1,ax2 refer to your two pies\n",
    "\n",
    "# 1,2 denotes 1 row, 2 columns - if you want to stack vertically, it would be 2,1\n",
    "\n",
    "\n",
    "ax1.pie(not_cancelled['hotel'].value_counts(),\n",
    "            labels=['City Hotel', 'Resort Hotel'],autopct = '%1.1f%%') #plot first pie\n",
    "ax1.set_title('Guests vs Hotel Type')\n",
    "\n",
    "\n",
    "\n",
    "ax2.pie(cancelled['hotel'].value_counts(),\n",
    "            labels=['City Hotel', 'Resort Hotel'],autopct = '%1.1f%%') #plot second pie\n",
    "ax2.set_title('Cancellation vs Hotel Type')"
   ]
  },
  {
   "cell_type": "code",
   "execution_count": 37,
   "id": "0ce4fc5b",
   "metadata": {
    "execution": {
     "iopub.execute_input": "2024-05-28T12:16:46.597166Z",
     "iopub.status.busy": "2024-05-28T12:16:46.596346Z",
     "iopub.status.idle": "2024-05-28T12:16:47.282394Z",
     "shell.execute_reply": "2024-05-28T12:16:47.281464Z"
    },
    "papermill": {
     "duration": 0.71406,
     "end_time": "2024-05-28T12:16:47.284481",
     "exception": false,
     "start_time": "2024-05-28T12:16:46.570421",
     "status": "completed"
    },
    "tags": []
   },
   "outputs": [
    {
     "data": {
      "image/png": "[encoded data removed]",
      "text/plain": [
       "<Figure size 1000x700 with 2 Axes>"
      ]
     },
     "metadata": {},
     "output_type": "display_data"
    }
   ],
   "source": [
    "# make two subplots side by side which share the same y-axis\n",
    "\n",
    "fig, ax =plt.subplots(1,2,figsize=(10,7), sharey=True)\n",
    "l2 = ['hotel','arrival_date_year']\n",
    "\n",
    "sns.countplot(not_cancelled[l2],x= \"arrival_date_year\",hue=\"hotel\",order=[\"2015\",\"2016\",\"2017\"], ax=ax[0]).set_title(\n",
    "'Number of Visitors Each Year', fontsize=18)\n",
    "\n",
    "sns.countplot(cancelled[l2],x= \"arrival_date_year\",hue=\"hotel\",order=[\"2015\",\"2016\",\"2017\"],  ax=ax[1]).set_title(\n",
    "'Number of Cancellations Each Year', fontsize=18)\n",
    "\n",
    "#add space\n",
    "fig.tight_layout()\n",
    "leg = ax[0].legend(fontsize=12)\n",
    "leg = ax[1].legend(fontsize=12)\n",
    "\n",
    "fig.show()  \n"
   ]
  },
  {
   "cell_type": "code",
   "execution_count": 38,
   "id": "b9928335",
   "metadata": {
    "execution": {
     "iopub.execute_input": "2024-05-28T12:16:47.337432Z",
     "iopub.status.busy": "2024-05-28T12:16:47.336946Z",
     "iopub.status.idle": "2024-05-28T12:16:48.578991Z",
     "shell.execute_reply": "2024-05-28T12:16:48.578024Z"
    },
    "papermill": {
     "duration": 1.270782,
     "end_time": "2024-05-28T12:16:48.581213",
     "exception": false,
     "start_time": "2024-05-28T12:16:47.310431",
     "status": "completed"
    },
    "tags": []
   },
   "outputs": [
    {
     "data": {
      "image/png": "[encoded data removed]",
      "text/plain": [
       "<Figure size 1200x700 with 2 Axes>"
      ]
     },
     "metadata": {},
     "output_type": "display_data"
    }
   ],
   "source": [
    "# make two subplots side by side which share the same y-axis\n",
    "\n",
    "fig, ax =plt.subplots(1,2, figsize=(12,7), sharey=True)\n",
    "\n",
    "l1 = ['hotel','arrival_date_month']\n",
    "\n",
    "sns.countplot(not_cancelled[l1],x= \"arrival_date_month\",hue=\"hotel\",order=[\"January\",\"February\",\"March\",\"April\",\"May\",\"June\",\n",
    " \"July\",\"August\",\"September\",\"October\",\"November\",\"December\"], ax=ax[0]).set_title(\n",
    "'Number of Visitors Each Year')\n",
    "\n",
    "sns.countplot(cancelled[l1],x= \"arrival_date_month\",hue=\"hotel\",order=[\"January\",\"February\",\"March\",\"April\",\"May\",\"June\",\n",
    " \"July\",\"August\",\"September\",\"October\",\"November\",\"December\"],  ax=ax[1]).set_title(\n",
    "'Number of Cancellations Each Year')\n",
    "\n",
    "# change rotation of x-labels\n",
    "plt.xticks(rotation=45, ha='right')\n",
    "leg = ax[0].legend(fontsize=12)\n",
    "leg = ax[1].legend(fontsize=12)\n",
    "\n",
    "#add space\n",
    "fig.tight_layout()\n",
    "fig.show()  "
   ]
  },
  {
   "cell_type": "markdown",
   "id": "d9604556",
   "metadata": {
    "papermill": {
     "duration": 0.026886,
     "end_time": "2024-05-28T12:16:48.636294",
     "exception": false,
     "start_time": "2024-05-28T12:16:48.609408",
     "status": "completed"
    },
    "tags": []
   },
   "source": [
    "If you liked my notebook and you want more, you can find a further ADR analysis with the cleaned dataset <a href=https://www.kaggle.com/code/ritaaggelou/hotel-booking-demand-exploring-adr/notebook>here<a>."
   ]
  }
 ],
 "metadata": {
  "kaggle": {
   "accelerator": "gpu",
   "dataSources": [
    {
     "datasetId": 511638,
     "sourceId": 944030,
     "sourceType": "datasetVersion"
    }
   ],
   "dockerImageVersionId": 30558,
   "isGpuEnabled": true,
   "isInternetEnabled": true,
   "language": "python",
   "sourceType": "notebook"
  },
  "kernelspec": {
   "display_name": "Python 3",
   "language": "python",
   "name": "python3"
  },
  "language_info": {
   "codemirror_mode": {
    "name": "ipython",
    "version": 3
   },
   "file_extension": ".py",
   "mimetype": "text/x-python",
   "name": "python",
   "nbconvert_exporter": "python",
   "pygments_lexer": "ipython3",
   "version": "3.10.12"
  },
  "papermill": {
   "default_parameters": {},
   "duration": 16.382171,
   "end_time": "2024-05-28T12:16:49.082396",
   "environment_variables": {},
   "exception": null,
   "input_path": "__notebook__.ipynb",
   "output_path": "__notebook__.ipynb",
   "parameters": {},
   "start_time": "2024-05-28T12:16:32.700225",
   "version": "2.4.0"
  }
 },
 "nbformat": 4,
 "nbformat_minor": 5
}
